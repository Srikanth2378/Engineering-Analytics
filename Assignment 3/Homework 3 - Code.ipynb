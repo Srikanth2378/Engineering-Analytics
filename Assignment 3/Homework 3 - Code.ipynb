{
 "cells": [
  {
   "cell_type": "markdown",
   "id": "801410f3",
   "metadata": {},
   "source": [
    "# Prblm 1"
   ]
  },
  {
   "cell_type": "code",
   "execution_count": 1,
   "id": "8bc8ec52",
   "metadata": {},
   "outputs": [],
   "source": [
    "import pandas as pd\n",
    "import numpy as np\n",
    "import statsmodels.api as sm\n",
    "from statsmodels.discrete.discrete_model import Logit\n",
    "from sklearn.model_selection import train_test_split"
   ]
  },
  {
   "cell_type": "code",
   "execution_count": 2,
   "id": "f3f752c4",
   "metadata": {},
   "outputs": [
    {
     "data": {
      "text/html": [
       "<div>\n",
       "<style scoped>\n",
       "    .dataframe tbody tr th:only-of-type {\n",
       "        vertical-align: middle;\n",
       "    }\n",
       "\n",
       "    .dataframe tbody tr th {\n",
       "        vertical-align: top;\n",
       "    }\n",
       "\n",
       "    .dataframe thead th {\n",
       "        text-align: right;\n",
       "    }\n",
       "</style>\n",
       "<table border=\"1\" class=\"dataframe\">\n",
       "  <thead>\n",
       "    <tr style=\"text-align: right;\">\n",
       "      <th></th>\n",
       "      <th>default</th>\n",
       "      <th>student</th>\n",
       "      <th>balance</th>\n",
       "      <th>income</th>\n",
       "    </tr>\n",
       "  </thead>\n",
       "  <tbody>\n",
       "    <tr>\n",
       "      <th>0</th>\n",
       "      <td>No</td>\n",
       "      <td>No</td>\n",
       "      <td>729.526495</td>\n",
       "      <td>44361.625074</td>\n",
       "    </tr>\n",
       "    <tr>\n",
       "      <th>1</th>\n",
       "      <td>No</td>\n",
       "      <td>Yes</td>\n",
       "      <td>817.180407</td>\n",
       "      <td>12106.134700</td>\n",
       "    </tr>\n",
       "    <tr>\n",
       "      <th>2</th>\n",
       "      <td>No</td>\n",
       "      <td>No</td>\n",
       "      <td>1073.549164</td>\n",
       "      <td>31767.138947</td>\n",
       "    </tr>\n",
       "    <tr>\n",
       "      <th>3</th>\n",
       "      <td>No</td>\n",
       "      <td>No</td>\n",
       "      <td>529.250605</td>\n",
       "      <td>35704.493935</td>\n",
       "    </tr>\n",
       "    <tr>\n",
       "      <th>4</th>\n",
       "      <td>No</td>\n",
       "      <td>No</td>\n",
       "      <td>785.655883</td>\n",
       "      <td>38463.495879</td>\n",
       "    </tr>\n",
       "  </tbody>\n",
       "</table>\n",
       "</div>"
      ],
      "text/plain": [
       "  default student      balance        income\n",
       "0      No      No   729.526495  44361.625074\n",
       "1      No     Yes   817.180407  12106.134700\n",
       "2      No      No  1073.549164  31767.138947\n",
       "3      No      No   529.250605  35704.493935\n",
       "4      No      No   785.655883  38463.495879"
      ]
     },
     "execution_count": 2,
     "metadata": {},
     "output_type": "execute_result"
    }
   ],
   "source": [
    "np.random.seed()\n",
    "default = pd.read_csv(r\"C:\\Users\\Student\\Desktop\\EA 6360\\Assignment 3\\Default.csv\")\n",
    "default.head()"
   ]
  },
  {
   "cell_type": "code",
   "execution_count": 3,
   "id": "767fed30",
   "metadata": {},
   "outputs": [
    {
     "data": {
      "text/plain": [
       "(10000, 4)"
      ]
     },
     "execution_count": 3,
     "metadata": {},
     "output_type": "execute_result"
    }
   ],
   "source": [
    "default.shape"
   ]
  },
  {
   "cell_type": "code",
   "execution_count": 4,
   "id": "17a612c4",
   "metadata": {},
   "outputs": [],
   "source": [
    "# Converting categorical values into Numerical values\n",
    "default['student'] = default['student'].map({'Yes':1,'No':0})\n",
    "default['default'] = default['default'].map({'Yes':1,'No':0})"
   ]
  },
  {
   "cell_type": "code",
   "execution_count": 5,
   "id": "767e8d73",
   "metadata": {},
   "outputs": [
    {
     "data": {
      "text/html": [
       "<div>\n",
       "<style scoped>\n",
       "    .dataframe tbody tr th:only-of-type {\n",
       "        vertical-align: middle;\n",
       "    }\n",
       "\n",
       "    .dataframe tbody tr th {\n",
       "        vertical-align: top;\n",
       "    }\n",
       "\n",
       "    .dataframe thead th {\n",
       "        text-align: right;\n",
       "    }\n",
       "</style>\n",
       "<table border=\"1\" class=\"dataframe\">\n",
       "  <thead>\n",
       "    <tr style=\"text-align: right;\">\n",
       "      <th></th>\n",
       "      <th>default</th>\n",
       "      <th>student</th>\n",
       "      <th>balance</th>\n",
       "      <th>income</th>\n",
       "    </tr>\n",
       "  </thead>\n",
       "  <tbody>\n",
       "    <tr>\n",
       "      <th>count</th>\n",
       "      <td>10000.000000</td>\n",
       "      <td>10000.000000</td>\n",
       "      <td>10000.000000</td>\n",
       "      <td>10000.000000</td>\n",
       "    </tr>\n",
       "    <tr>\n",
       "      <th>mean</th>\n",
       "      <td>0.033300</td>\n",
       "      <td>0.294400</td>\n",
       "      <td>835.374886</td>\n",
       "      <td>33516.981876</td>\n",
       "    </tr>\n",
       "    <tr>\n",
       "      <th>std</th>\n",
       "      <td>0.179428</td>\n",
       "      <td>0.455795</td>\n",
       "      <td>483.714985</td>\n",
       "      <td>13336.639563</td>\n",
       "    </tr>\n",
       "    <tr>\n",
       "      <th>min</th>\n",
       "      <td>0.000000</td>\n",
       "      <td>0.000000</td>\n",
       "      <td>0.000000</td>\n",
       "      <td>771.967729</td>\n",
       "    </tr>\n",
       "    <tr>\n",
       "      <th>25%</th>\n",
       "      <td>0.000000</td>\n",
       "      <td>0.000000</td>\n",
       "      <td>481.731105</td>\n",
       "      <td>21340.462903</td>\n",
       "    </tr>\n",
       "    <tr>\n",
       "      <th>50%</th>\n",
       "      <td>0.000000</td>\n",
       "      <td>0.000000</td>\n",
       "      <td>823.636973</td>\n",
       "      <td>34552.644802</td>\n",
       "    </tr>\n",
       "    <tr>\n",
       "      <th>75%</th>\n",
       "      <td>0.000000</td>\n",
       "      <td>1.000000</td>\n",
       "      <td>1166.308386</td>\n",
       "      <td>43807.729272</td>\n",
       "    </tr>\n",
       "    <tr>\n",
       "      <th>max</th>\n",
       "      <td>1.000000</td>\n",
       "      <td>1.000000</td>\n",
       "      <td>2654.322576</td>\n",
       "      <td>73554.233495</td>\n",
       "    </tr>\n",
       "  </tbody>\n",
       "</table>\n",
       "</div>"
      ],
      "text/plain": [
       "            default       student       balance        income\n",
       "count  10000.000000  10000.000000  10000.000000  10000.000000\n",
       "mean       0.033300      0.294400    835.374886  33516.981876\n",
       "std        0.179428      0.455795    483.714985  13336.639563\n",
       "min        0.000000      0.000000      0.000000    771.967729\n",
       "25%        0.000000      0.000000    481.731105  21340.462903\n",
       "50%        0.000000      0.000000    823.636973  34552.644802\n",
       "75%        0.000000      1.000000   1166.308386  43807.729272\n",
       "max        1.000000      1.000000   2654.322576  73554.233495"
      ]
     },
     "execution_count": 5,
     "metadata": {},
     "output_type": "execute_result"
    }
   ],
   "source": [
    "default.describe()"
   ]
  },
  {
   "cell_type": "code",
   "execution_count": 6,
   "id": "ebb0e800",
   "metadata": {},
   "outputs": [
    {
     "data": {
      "text/html": [
       "<div>\n",
       "<style scoped>\n",
       "    .dataframe tbody tr th:only-of-type {\n",
       "        vertical-align: middle;\n",
       "    }\n",
       "\n",
       "    .dataframe tbody tr th {\n",
       "        vertical-align: top;\n",
       "    }\n",
       "\n",
       "    .dataframe thead th {\n",
       "        text-align: right;\n",
       "    }\n",
       "</style>\n",
       "<table border=\"1\" class=\"dataframe\">\n",
       "  <thead>\n",
       "    <tr style=\"text-align: right;\">\n",
       "      <th></th>\n",
       "      <th>default</th>\n",
       "      <th>student</th>\n",
       "      <th>balance</th>\n",
       "      <th>income</th>\n",
       "    </tr>\n",
       "  </thead>\n",
       "  <tbody>\n",
       "    <tr>\n",
       "      <th>default</th>\n",
       "      <td>1.000000</td>\n",
       "      <td>0.035420</td>\n",
       "      <td>0.350119</td>\n",
       "      <td>-0.019871</td>\n",
       "    </tr>\n",
       "    <tr>\n",
       "      <th>student</th>\n",
       "      <td>0.035420</td>\n",
       "      <td>1.000000</td>\n",
       "      <td>0.203578</td>\n",
       "      <td>-0.753985</td>\n",
       "    </tr>\n",
       "    <tr>\n",
       "      <th>balance</th>\n",
       "      <td>0.350119</td>\n",
       "      <td>0.203578</td>\n",
       "      <td>1.000000</td>\n",
       "      <td>-0.152243</td>\n",
       "    </tr>\n",
       "    <tr>\n",
       "      <th>income</th>\n",
       "      <td>-0.019871</td>\n",
       "      <td>-0.753985</td>\n",
       "      <td>-0.152243</td>\n",
       "      <td>1.000000</td>\n",
       "    </tr>\n",
       "  </tbody>\n",
       "</table>\n",
       "</div>"
      ],
      "text/plain": [
       "          default   student   balance    income\n",
       "default  1.000000  0.035420  0.350119 -0.019871\n",
       "student  0.035420  1.000000  0.203578 -0.753985\n",
       "balance  0.350119  0.203578  1.000000 -0.152243\n",
       "income  -0.019871 -0.753985 -0.152243  1.000000"
      ]
     },
     "execution_count": 6,
     "metadata": {},
     "output_type": "execute_result"
    }
   ],
   "source": [
    "default.corr()"
   ]
  },
  {
   "cell_type": "markdown",
   "id": "bbbe480b",
   "metadata": {},
   "source": [
    "# a) Fit a logistic regression model that uses income and balance to predict       default.\n"
   ]
  },
  {
   "cell_type": "code",
   "execution_count": 7,
   "id": "7874118b",
   "metadata": {},
   "outputs": [
    {
     "name": "stdout",
     "output_type": "stream",
     "text": [
      "Optimization terminated successfully.\n",
      "         Current function value: 0.078948\n",
      "         Iterations 10\n",
      "                           Logit Regression Results                           \n",
      "==============================================================================\n",
      "Dep. Variable:                default   No. Observations:                10000\n",
      "Model:                          Logit   Df Residuals:                     9997\n",
      "Method:                           MLE   Df Model:                            2\n",
      "Date:                Mon, 08 Nov 2021   Pseudo R-squ.:                  0.4594\n",
      "Time:                        19:50:27   Log-Likelihood:                -789.48\n",
      "converged:                       True   LL-Null:                       -1460.3\n",
      "Covariance Type:            nonrobust   LLR p-value:                4.541e-292\n",
      "==============================================================================\n",
      "                 coef    std err          z      P>|z|      [0.025      0.975]\n",
      "------------------------------------------------------------------------------\n",
      "const        -11.5405      0.435    -26.544      0.000     -12.393     -10.688\n",
      "income      2.081e-05   4.99e-06      4.174      0.000     1.1e-05    3.06e-05\n",
      "balance        0.0056      0.000     24.835      0.000       0.005       0.006\n",
      "==============================================================================\n",
      "\n",
      "Possibly complete quasi-separation: A fraction 0.14 of observations can be\n",
      "perfectly predicted. This might indicate that there is complete\n",
      "quasi-separation. In this case some parameters will not be identified.\n"
     ]
    }
   ],
   "source": [
    "X = default[['income', 'balance']]\n",
    "X = sm.add_constant(X, prepend=True)\n",
    "y = default['default']\n",
    "\n",
    "model = Logit(y, X)\n",
    "result = model.fit()\n",
    "print(result.summary())"
   ]
  },
  {
   "cell_type": "markdown",
   "id": "00b12c98",
   "metadata": {},
   "source": [
    "# (b) Using the validation set approach, estimate the test error of this model."
   ]
  },
  {
   "cell_type": "code",
   "execution_count": 8,
   "id": "6940d87d",
   "metadata": {},
   "outputs": [],
   "source": [
    "train, validation = train_test_split(default, test_size=0.3)"
   ]
  },
  {
   "cell_type": "code",
   "execution_count": 9,
   "id": "323fb6aa",
   "metadata": {},
   "outputs": [],
   "source": [
    "X = train[['income', 'balance']]\n",
    "X = sm.add_constant(X, prepend=True)\n",
    "y = train['default']"
   ]
  },
  {
   "cell_type": "code",
   "execution_count": 10,
   "id": "50c17c39",
   "metadata": {},
   "outputs": [
    {
     "name": "stdout",
     "output_type": "stream",
     "text": [
      "Optimization terminated successfully.\n",
      "         Current function value: 0.079420\n",
      "         Iterations 10\n",
      "                           Logit Regression Results                           \n",
      "==============================================================================\n",
      "Dep. Variable:                default   No. Observations:                 7000\n",
      "Model:                          Logit   Df Residuals:                     6997\n",
      "Method:                           MLE   Df Model:                            2\n",
      "Date:                Mon, 08 Nov 2021   Pseudo R-squ.:                  0.4468\n",
      "Time:                        19:50:27   Log-Likelihood:                -555.94\n",
      "converged:                       True   LL-Null:                       -1005.0\n",
      "Covariance Type:            nonrobust   LLR p-value:                9.515e-196\n",
      "==============================================================================\n",
      "                 coef    std err          z      P>|z|      [0.025      0.975]\n",
      "------------------------------------------------------------------------------\n",
      "const        -11.4298      0.517    -22.125      0.000     -12.442     -10.417\n",
      "income      2.129e-05   5.94e-06      3.581      0.000    9.64e-06    3.29e-05\n",
      "balance        0.0055      0.000     20.522      0.000       0.005       0.006\n",
      "==============================================================================\n",
      "\n",
      "Possibly complete quasi-separation: A fraction 0.13 of observations can be\n",
      "perfectly predicted. This might indicate that there is complete\n",
      "quasi-separation. In this case some parameters will not be identified.\n"
     ]
    }
   ],
   "source": [
    "model = Logit(y, X)\n",
    "result = model.fit()\n",
    "print(result.summary())"
   ]
  },
  {
   "cell_type": "code",
   "execution_count": 11,
   "id": "4996a69f",
   "metadata": {},
   "outputs": [],
   "source": [
    "X_val = validation[['income', 'balance']]\n",
    "X_val = sm.add_constant(X_val, prepend=True)\n",
    "predictions = result.predict(X_val) > 0.5"
   ]
  },
  {
   "cell_type": "code",
   "execution_count": 12,
   "id": "f1b6f77d",
   "metadata": {},
   "outputs": [
    {
     "name": "stdout",
     "output_type": "stream",
     "text": [
      "Estimation for test error rate is: 0.026\n"
     ]
    }
   ],
   "source": [
    "print(\"Estimation for test error rate is: \"\n",
    "      +str((len(validation['default']) - np.sum(predictions == validation['default'])) / (len(validation['default']))))"
   ]
  },
  {
   "cell_type": "markdown",
   "id": "cb3722ec",
   "metadata": {},
   "source": [
    "# c) Repeat the process in (b) three times, using three different splits of the observations into a training set and a validation set."
   ]
  },
  {
   "cell_type": "code",
   "execution_count": 16,
   "id": "57cfef7f",
   "metadata": {},
   "outputs": [],
   "source": [
    "X = np.array(default[['income','balance']].copy())\n",
    "y = np.array(default['default'])"
   ]
  },
  {
   "cell_type": "code",
   "execution_count": 18,
   "id": "f2b98748",
   "metadata": {},
   "outputs": [],
   "source": [
    "from sklearn.model_selection import train_test_split,cross_val_score\n",
    "from sklearn.metrics import confusion_matrix,classification_report,accuracy_score"
   ]
  },
  {
   "cell_type": "code",
   "execution_count": 19,
   "id": "a3fa0781",
   "metadata": {},
   "outputs": [
    {
     "name": "stdout",
     "output_type": "stream",
     "text": [
      "split 1:\n",
      "Optimization terminated successfully.\n",
      "         Current function value: 0.162351\n",
      "         Iterations 8\n",
      "3.757575757575765%  test error rate from validation set approach.\n",
      "----------------------------------------------------------------------------------------------------\n",
      "split 2:\n",
      "Optimization terminated successfully.\n",
      "         Current function value: 0.181245\n",
      "         Iterations 8\n",
      "3.030303030303031%  test error rate from validation set approach.\n",
      "----------------------------------------------------------------------------------------------------\n",
      "split 3:\n",
      "Optimization terminated successfully.\n",
      "         Current function value: 0.186301\n",
      "         Iterations 8\n",
      "2.666666666666657%  test error rate from validation set approach.\n",
      "----------------------------------------------------------------------------------------------------\n"
     ]
    }
   ],
   "source": [
    "for split_no in range(3):\n",
    "    print('split',str(split_no+1)+':')\n",
    "    X_train, X_test, y_train, y_test = train_test_split( X, y, test_size=0.33, random_state=split_no)\n",
    "    lg_train = sm.Logit(y_train,X_train).fit()\n",
    "    \n",
    "    pred = lg_train.predict(X_test)\n",
    "    threshold = 0.5\n",
    "    pred = np.array(lg_train.predict(X_test) > threshold, dtype=float)\n",
    "    validation_error = 100 - (accuracy_score(y_pred=pred,y_true=y_test)*100)\n",
    "    print('{}%  test error rate from validation set approach.'.format(validation_error))\n",
    "    print('-'*100)"
   ]
  },
  {
   "cell_type": "markdown",
   "id": "03d100a9",
   "metadata": {},
   "source": [
    "#   \n",
    "the estimated test error rates for three different splits are 3.75%,3.03%,2.66%"
   ]
  },
  {
   "cell_type": "markdown",
   "id": "e4c67644",
   "metadata": {},
   "source": [
    "# (d) Now consider a logistic regression model that predicts the probability of default using income, balance, and a dummy variable for student. Estimate the test error for this model using the validation set approach"
   ]
  },
  {
   "cell_type": "code",
   "execution_count": 20,
   "id": "0f7f6a5b",
   "metadata": {},
   "outputs": [
    {
     "name": "stdout",
     "output_type": "stream",
     "text": [
      "Optimization terminated successfully.\n",
      "         Current function value: 0.082480\n",
      "         Iterations 10\n",
      "                           Logit Regression Results                           \n",
      "==============================================================================\n",
      "Dep. Variable:                default   No. Observations:                 7000\n",
      "Model:                          Logit   Df Residuals:                     6996\n",
      "Method:                           MLE   Df Model:                            3\n",
      "Date:                Mon, 08 Nov 2021   Pseudo R-squ.:                  0.4423\n",
      "Time:                        19:51:52   Log-Likelihood:                -577.36\n",
      "converged:                       True   LL-Null:                       -1035.3\n",
      "Covariance Type:            nonrobust   LLR p-value:                3.084e-198\n",
      "==============================================================================\n",
      "                 coef    std err          z      P>|z|      [0.025      0.975]\n",
      "------------------------------------------------------------------------------\n",
      "const        -10.4390      0.563    -18.555      0.000     -11.542      -9.336\n",
      "income      3.998e-06   9.52e-06      0.420      0.675   -1.47e-05    2.27e-05\n",
      "balance        0.0055      0.000     20.983      0.000       0.005       0.006\n",
      "student       -0.8016      0.279     -2.869      0.004      -1.349      -0.254\n",
      "==============================================================================\n",
      "\n",
      "Possibly complete quasi-separation: A fraction 0.12 of observations can be\n",
      "perfectly predicted. This might indicate that there is complete\n",
      "quasi-separation. In this case some parameters will not be identified.\n"
     ]
    }
   ],
   "source": [
    "train, validation = train_test_split(default, test_size=0.3)\n",
    "\n",
    "X = train[['income', 'balance', 'student']]\n",
    "X = sm.add_constant(X, prepend=True)\n",
    "y = train['default']\n",
    "\n",
    "model = Logit(y, X)\n",
    "result = model.fit()\n",
    "print(result.summary())"
   ]
  },
  {
   "cell_type": "code",
   "execution_count": 21,
   "id": "9ea98beb",
   "metadata": {},
   "outputs": [
    {
     "name": "stdout",
     "output_type": "stream",
     "text": [
      "Estimation for test error rate is: 2.3666666666666667\n"
     ]
    }
   ],
   "source": [
    "X_val = validation[['income', 'balance', 'student']]\n",
    "X_val = sm.add_constant(X_val, prepend=True)\n",
    "predictions = result.predict(X_val) > 0.5\n",
    "\n",
    "print(\"Estimation for test error rate is: \"\n",
    "      +str((len(validation['default']) - np.sum(predictions == validation['default'])) / (len(validation['default']))*100))"
   ]
  },
  {
   "cell_type": "markdown",
   "id": "113fbf7c",
   "metadata": {},
   "source": [
    "**Including student in the model does not improve the test erro rate much as the error rate is still 2.83 %**"
   ]
  },
  {
   "cell_type": "markdown",
   "id": "838555bc",
   "metadata": {},
   "source": [
    "#            "
   ]
  },
  {
   "cell_type": "markdown",
   "id": "5821b7e2",
   "metadata": {},
   "source": [
    "# Prblm 2"
   ]
  },
  {
   "cell_type": "code",
   "execution_count": 57,
   "id": "b465df59",
   "metadata": {},
   "outputs": [],
   "source": [
    "import pandas as pd\n",
    "import numpy as np\n",
    "import pandas.util.testing as tm\n",
    "import matplotlib.pyplot as plt\n",
    "import seaborn as sns\n",
    "import statsmodels.api as sm\n",
    "from sklearn.model_selection import train_test_split,cross_val_score\n",
    "from sklearn.metrics import confusion_matrix,classification_report,accuracy_score\n",
    "import random\n",
    "random.seed(100)\n",
    "\n",
    "%matplotlib inline"
   ]
  },
  {
   "cell_type": "code",
   "execution_count": 58,
   "id": "c65fe1e6",
   "metadata": {},
   "outputs": [
    {
     "data": {
      "text/html": [
       "<div>\n",
       "<style scoped>\n",
       "    .dataframe tbody tr th:only-of-type {\n",
       "        vertical-align: middle;\n",
       "    }\n",
       "\n",
       "    .dataframe tbody tr th {\n",
       "        vertical-align: top;\n",
       "    }\n",
       "\n",
       "    .dataframe thead th {\n",
       "        text-align: right;\n",
       "    }\n",
       "</style>\n",
       "<table border=\"1\" class=\"dataframe\">\n",
       "  <thead>\n",
       "    <tr style=\"text-align: right;\">\n",
       "      <th></th>\n",
       "      <th>Purchase</th>\n",
       "      <th>WeekofPurchase</th>\n",
       "      <th>StoreID</th>\n",
       "      <th>PriceCH</th>\n",
       "      <th>PriceMM</th>\n",
       "      <th>DiscCH</th>\n",
       "      <th>DiscMM</th>\n",
       "      <th>SpecialCH</th>\n",
       "      <th>SpecialMM</th>\n",
       "      <th>LoyalCH</th>\n",
       "      <th>SalePriceMM</th>\n",
       "      <th>SalePriceCH</th>\n",
       "      <th>PriceDiff</th>\n",
       "      <th>Store7</th>\n",
       "      <th>PctDiscMM</th>\n",
       "      <th>PctDiscCH</th>\n",
       "      <th>ListPriceDiff</th>\n",
       "      <th>STORE</th>\n",
       "    </tr>\n",
       "  </thead>\n",
       "  <tbody>\n",
       "    <tr>\n",
       "      <th>0</th>\n",
       "      <td>CH</td>\n",
       "      <td>237</td>\n",
       "      <td>1</td>\n",
       "      <td>1.75</td>\n",
       "      <td>1.99</td>\n",
       "      <td>0.00</td>\n",
       "      <td>0.0</td>\n",
       "      <td>0</td>\n",
       "      <td>0</td>\n",
       "      <td>0.500000</td>\n",
       "      <td>1.99</td>\n",
       "      <td>1.75</td>\n",
       "      <td>0.24</td>\n",
       "      <td>No</td>\n",
       "      <td>0.000000</td>\n",
       "      <td>0.000000</td>\n",
       "      <td>0.24</td>\n",
       "      <td>1</td>\n",
       "    </tr>\n",
       "    <tr>\n",
       "      <th>1</th>\n",
       "      <td>CH</td>\n",
       "      <td>239</td>\n",
       "      <td>1</td>\n",
       "      <td>1.75</td>\n",
       "      <td>1.99</td>\n",
       "      <td>0.00</td>\n",
       "      <td>0.3</td>\n",
       "      <td>0</td>\n",
       "      <td>1</td>\n",
       "      <td>0.600000</td>\n",
       "      <td>1.69</td>\n",
       "      <td>1.75</td>\n",
       "      <td>-0.06</td>\n",
       "      <td>No</td>\n",
       "      <td>0.150754</td>\n",
       "      <td>0.000000</td>\n",
       "      <td>0.24</td>\n",
       "      <td>1</td>\n",
       "    </tr>\n",
       "    <tr>\n",
       "      <th>2</th>\n",
       "      <td>CH</td>\n",
       "      <td>245</td>\n",
       "      <td>1</td>\n",
       "      <td>1.86</td>\n",
       "      <td>2.09</td>\n",
       "      <td>0.17</td>\n",
       "      <td>0.0</td>\n",
       "      <td>0</td>\n",
       "      <td>0</td>\n",
       "      <td>0.680000</td>\n",
       "      <td>2.09</td>\n",
       "      <td>1.69</td>\n",
       "      <td>0.40</td>\n",
       "      <td>No</td>\n",
       "      <td>0.000000</td>\n",
       "      <td>0.091398</td>\n",
       "      <td>0.23</td>\n",
       "      <td>1</td>\n",
       "    </tr>\n",
       "    <tr>\n",
       "      <th>3</th>\n",
       "      <td>MM</td>\n",
       "      <td>227</td>\n",
       "      <td>1</td>\n",
       "      <td>1.69</td>\n",
       "      <td>1.69</td>\n",
       "      <td>0.00</td>\n",
       "      <td>0.0</td>\n",
       "      <td>0</td>\n",
       "      <td>0</td>\n",
       "      <td>0.400000</td>\n",
       "      <td>1.69</td>\n",
       "      <td>1.69</td>\n",
       "      <td>0.00</td>\n",
       "      <td>No</td>\n",
       "      <td>0.000000</td>\n",
       "      <td>0.000000</td>\n",
       "      <td>0.00</td>\n",
       "      <td>1</td>\n",
       "    </tr>\n",
       "    <tr>\n",
       "      <th>4</th>\n",
       "      <td>CH</td>\n",
       "      <td>228</td>\n",
       "      <td>7</td>\n",
       "      <td>1.69</td>\n",
       "      <td>1.69</td>\n",
       "      <td>0.00</td>\n",
       "      <td>0.0</td>\n",
       "      <td>0</td>\n",
       "      <td>0</td>\n",
       "      <td>0.956535</td>\n",
       "      <td>1.69</td>\n",
       "      <td>1.69</td>\n",
       "      <td>0.00</td>\n",
       "      <td>Yes</td>\n",
       "      <td>0.000000</td>\n",
       "      <td>0.000000</td>\n",
       "      <td>0.00</td>\n",
       "      <td>0</td>\n",
       "    </tr>\n",
       "  </tbody>\n",
       "</table>\n",
       "</div>"
      ],
      "text/plain": [
       "  Purchase  WeekofPurchase  StoreID  PriceCH  PriceMM  DiscCH  DiscMM  \\\n",
       "0       CH             237        1     1.75     1.99    0.00     0.0   \n",
       "1       CH             239        1     1.75     1.99    0.00     0.3   \n",
       "2       CH             245        1     1.86     2.09    0.17     0.0   \n",
       "3       MM             227        1     1.69     1.69    0.00     0.0   \n",
       "4       CH             228        7     1.69     1.69    0.00     0.0   \n",
       "\n",
       "   SpecialCH  SpecialMM   LoyalCH  SalePriceMM  SalePriceCH  PriceDiff Store7  \\\n",
       "0          0          0  0.500000         1.99         1.75       0.24     No   \n",
       "1          0          1  0.600000         1.69         1.75      -0.06     No   \n",
       "2          0          0  0.680000         2.09         1.69       0.40     No   \n",
       "3          0          0  0.400000         1.69         1.69       0.00     No   \n",
       "4          0          0  0.956535         1.69         1.69       0.00    Yes   \n",
       "\n",
       "   PctDiscMM  PctDiscCH  ListPriceDiff  STORE  \n",
       "0   0.000000   0.000000           0.24      1  \n",
       "1   0.150754   0.000000           0.24      1  \n",
       "2   0.000000   0.091398           0.23      1  \n",
       "3   0.000000   0.000000           0.00      1  \n",
       "4   0.000000   0.000000           0.00      0  "
      ]
     },
     "execution_count": 58,
     "metadata": {},
     "output_type": "execute_result"
    }
   ],
   "source": [
    "df=pd.read_csv(r\"C:\\Users\\Student\\Desktop\\EA 6360\\Assignment 3\\OJ.csv\")\n",
    "df.head()"
   ]
  },
  {
   "cell_type": "code",
   "execution_count": 59,
   "id": "d02117dd",
   "metadata": {},
   "outputs": [
    {
     "data": {
      "text/plain": [
       "(1070, 18)"
      ]
     },
     "execution_count": 59,
     "metadata": {},
     "output_type": "execute_result"
    }
   ],
   "source": [
    "df.shape"
   ]
  },
  {
   "cell_type": "code",
   "execution_count": 60,
   "id": "acd2dfe1",
   "metadata": {},
   "outputs": [
    {
     "data": {
      "text/html": [
       "<div>\n",
       "<style scoped>\n",
       "    .dataframe tbody tr th:only-of-type {\n",
       "        vertical-align: middle;\n",
       "    }\n",
       "\n",
       "    .dataframe tbody tr th {\n",
       "        vertical-align: top;\n",
       "    }\n",
       "\n",
       "    .dataframe thead th {\n",
       "        text-align: right;\n",
       "    }\n",
       "</style>\n",
       "<table border=\"1\" class=\"dataframe\">\n",
       "  <thead>\n",
       "    <tr style=\"text-align: right;\">\n",
       "      <th></th>\n",
       "      <th>WeekofPurchase</th>\n",
       "      <th>StoreID</th>\n",
       "      <th>PriceCH</th>\n",
       "      <th>PriceMM</th>\n",
       "      <th>DiscCH</th>\n",
       "      <th>DiscMM</th>\n",
       "      <th>SpecialCH</th>\n",
       "      <th>SpecialMM</th>\n",
       "      <th>LoyalCH</th>\n",
       "      <th>SalePriceMM</th>\n",
       "      <th>SalePriceCH</th>\n",
       "      <th>PriceDiff</th>\n",
       "      <th>PctDiscMM</th>\n",
       "      <th>PctDiscCH</th>\n",
       "      <th>ListPriceDiff</th>\n",
       "      <th>STORE</th>\n",
       "    </tr>\n",
       "  </thead>\n",
       "  <tbody>\n",
       "    <tr>\n",
       "      <th>count</th>\n",
       "      <td>1070.000000</td>\n",
       "      <td>1070.000000</td>\n",
       "      <td>1070.000000</td>\n",
       "      <td>1070.000000</td>\n",
       "      <td>1070.000000</td>\n",
       "      <td>1070.000000</td>\n",
       "      <td>1070.000000</td>\n",
       "      <td>1070.000000</td>\n",
       "      <td>1070.000000</td>\n",
       "      <td>1070.000000</td>\n",
       "      <td>1070.000000</td>\n",
       "      <td>1070.000000</td>\n",
       "      <td>1070.000000</td>\n",
       "      <td>1070.000000</td>\n",
       "      <td>1070.000000</td>\n",
       "      <td>1070.000000</td>\n",
       "    </tr>\n",
       "    <tr>\n",
       "      <th>mean</th>\n",
       "      <td>254.381308</td>\n",
       "      <td>3.959813</td>\n",
       "      <td>1.867421</td>\n",
       "      <td>2.085411</td>\n",
       "      <td>0.051860</td>\n",
       "      <td>0.123364</td>\n",
       "      <td>0.147664</td>\n",
       "      <td>0.161682</td>\n",
       "      <td>0.565782</td>\n",
       "      <td>1.962047</td>\n",
       "      <td>1.815561</td>\n",
       "      <td>0.146486</td>\n",
       "      <td>0.059298</td>\n",
       "      <td>0.027314</td>\n",
       "      <td>0.217991</td>\n",
       "      <td>1.630841</td>\n",
       "    </tr>\n",
       "    <tr>\n",
       "      <th>std</th>\n",
       "      <td>15.558286</td>\n",
       "      <td>2.308984</td>\n",
       "      <td>0.101970</td>\n",
       "      <td>0.134386</td>\n",
       "      <td>0.117474</td>\n",
       "      <td>0.213834</td>\n",
       "      <td>0.354932</td>\n",
       "      <td>0.368331</td>\n",
       "      <td>0.307843</td>\n",
       "      <td>0.252697</td>\n",
       "      <td>0.143384</td>\n",
       "      <td>0.271563</td>\n",
       "      <td>0.101760</td>\n",
       "      <td>0.062232</td>\n",
       "      <td>0.107535</td>\n",
       "      <td>1.430387</td>\n",
       "    </tr>\n",
       "    <tr>\n",
       "      <th>min</th>\n",
       "      <td>227.000000</td>\n",
       "      <td>1.000000</td>\n",
       "      <td>1.690000</td>\n",
       "      <td>1.690000</td>\n",
       "      <td>0.000000</td>\n",
       "      <td>0.000000</td>\n",
       "      <td>0.000000</td>\n",
       "      <td>0.000000</td>\n",
       "      <td>0.000011</td>\n",
       "      <td>1.190000</td>\n",
       "      <td>1.390000</td>\n",
       "      <td>-0.670000</td>\n",
       "      <td>0.000000</td>\n",
       "      <td>0.000000</td>\n",
       "      <td>0.000000</td>\n",
       "      <td>0.000000</td>\n",
       "    </tr>\n",
       "    <tr>\n",
       "      <th>25%</th>\n",
       "      <td>240.000000</td>\n",
       "      <td>2.000000</td>\n",
       "      <td>1.790000</td>\n",
       "      <td>1.990000</td>\n",
       "      <td>0.000000</td>\n",
       "      <td>0.000000</td>\n",
       "      <td>0.000000</td>\n",
       "      <td>0.000000</td>\n",
       "      <td>0.325257</td>\n",
       "      <td>1.690000</td>\n",
       "      <td>1.750000</td>\n",
       "      <td>0.000000</td>\n",
       "      <td>0.000000</td>\n",
       "      <td>0.000000</td>\n",
       "      <td>0.140000</td>\n",
       "      <td>0.000000</td>\n",
       "    </tr>\n",
       "    <tr>\n",
       "      <th>50%</th>\n",
       "      <td>257.000000</td>\n",
       "      <td>3.000000</td>\n",
       "      <td>1.860000</td>\n",
       "      <td>2.090000</td>\n",
       "      <td>0.000000</td>\n",
       "      <td>0.000000</td>\n",
       "      <td>0.000000</td>\n",
       "      <td>0.000000</td>\n",
       "      <td>0.600000</td>\n",
       "      <td>2.090000</td>\n",
       "      <td>1.860000</td>\n",
       "      <td>0.230000</td>\n",
       "      <td>0.000000</td>\n",
       "      <td>0.000000</td>\n",
       "      <td>0.240000</td>\n",
       "      <td>2.000000</td>\n",
       "    </tr>\n",
       "    <tr>\n",
       "      <th>75%</th>\n",
       "      <td>268.000000</td>\n",
       "      <td>7.000000</td>\n",
       "      <td>1.990000</td>\n",
       "      <td>2.180000</td>\n",
       "      <td>0.000000</td>\n",
       "      <td>0.230000</td>\n",
       "      <td>0.000000</td>\n",
       "      <td>0.000000</td>\n",
       "      <td>0.850873</td>\n",
       "      <td>2.130000</td>\n",
       "      <td>1.890000</td>\n",
       "      <td>0.320000</td>\n",
       "      <td>0.112676</td>\n",
       "      <td>0.000000</td>\n",
       "      <td>0.300000</td>\n",
       "      <td>3.000000</td>\n",
       "    </tr>\n",
       "    <tr>\n",
       "      <th>max</th>\n",
       "      <td>278.000000</td>\n",
       "      <td>7.000000</td>\n",
       "      <td>2.090000</td>\n",
       "      <td>2.290000</td>\n",
       "      <td>0.500000</td>\n",
       "      <td>0.800000</td>\n",
       "      <td>1.000000</td>\n",
       "      <td>1.000000</td>\n",
       "      <td>0.999947</td>\n",
       "      <td>2.290000</td>\n",
       "      <td>2.090000</td>\n",
       "      <td>0.640000</td>\n",
       "      <td>0.402010</td>\n",
       "      <td>0.252688</td>\n",
       "      <td>0.440000</td>\n",
       "      <td>4.000000</td>\n",
       "    </tr>\n",
       "  </tbody>\n",
       "</table>\n",
       "</div>"
      ],
      "text/plain": [
       "       WeekofPurchase      StoreID      PriceCH      PriceMM       DiscCH  \\\n",
       "count     1070.000000  1070.000000  1070.000000  1070.000000  1070.000000   \n",
       "mean       254.381308     3.959813     1.867421     2.085411     0.051860   \n",
       "std         15.558286     2.308984     0.101970     0.134386     0.117474   \n",
       "min        227.000000     1.000000     1.690000     1.690000     0.000000   \n",
       "25%        240.000000     2.000000     1.790000     1.990000     0.000000   \n",
       "50%        257.000000     3.000000     1.860000     2.090000     0.000000   \n",
       "75%        268.000000     7.000000     1.990000     2.180000     0.000000   \n",
       "max        278.000000     7.000000     2.090000     2.290000     0.500000   \n",
       "\n",
       "            DiscMM    SpecialCH    SpecialMM      LoyalCH  SalePriceMM  \\\n",
       "count  1070.000000  1070.000000  1070.000000  1070.000000  1070.000000   \n",
       "mean      0.123364     0.147664     0.161682     0.565782     1.962047   \n",
       "std       0.213834     0.354932     0.368331     0.307843     0.252697   \n",
       "min       0.000000     0.000000     0.000000     0.000011     1.190000   \n",
       "25%       0.000000     0.000000     0.000000     0.325257     1.690000   \n",
       "50%       0.000000     0.000000     0.000000     0.600000     2.090000   \n",
       "75%       0.230000     0.000000     0.000000     0.850873     2.130000   \n",
       "max       0.800000     1.000000     1.000000     0.999947     2.290000   \n",
       "\n",
       "       SalePriceCH    PriceDiff    PctDiscMM    PctDiscCH  ListPriceDiff  \\\n",
       "count  1070.000000  1070.000000  1070.000000  1070.000000    1070.000000   \n",
       "mean      1.815561     0.146486     0.059298     0.027314       0.217991   \n",
       "std       0.143384     0.271563     0.101760     0.062232       0.107535   \n",
       "min       1.390000    -0.670000     0.000000     0.000000       0.000000   \n",
       "25%       1.750000     0.000000     0.000000     0.000000       0.140000   \n",
       "50%       1.860000     0.230000     0.000000     0.000000       0.240000   \n",
       "75%       1.890000     0.320000     0.112676     0.000000       0.300000   \n",
       "max       2.090000     0.640000     0.402010     0.252688       0.440000   \n",
       "\n",
       "             STORE  \n",
       "count  1070.000000  \n",
       "mean      1.630841  \n",
       "std       1.430387  \n",
       "min       0.000000  \n",
       "25%       0.000000  \n",
       "50%       2.000000  \n",
       "75%       3.000000  \n",
       "max       4.000000  "
      ]
     },
     "execution_count": 60,
     "metadata": {},
     "output_type": "execute_result"
    }
   ],
   "source": [
    "df.describe()"
   ]
  },
  {
   "cell_type": "code",
   "execution_count": 61,
   "id": "1b7d80cc",
   "metadata": {},
   "outputs": [
    {
     "data": {
      "text/html": [
       "<div>\n",
       "<style scoped>\n",
       "    .dataframe tbody tr th:only-of-type {\n",
       "        vertical-align: middle;\n",
       "    }\n",
       "\n",
       "    .dataframe tbody tr th {\n",
       "        vertical-align: top;\n",
       "    }\n",
       "\n",
       "    .dataframe thead th {\n",
       "        text-align: right;\n",
       "    }\n",
       "</style>\n",
       "<table border=\"1\" class=\"dataframe\">\n",
       "  <thead>\n",
       "    <tr style=\"text-align: right;\">\n",
       "      <th></th>\n",
       "      <th>WeekofPurchase</th>\n",
       "      <th>StoreID</th>\n",
       "      <th>PriceCH</th>\n",
       "      <th>PriceMM</th>\n",
       "      <th>DiscCH</th>\n",
       "      <th>DiscMM</th>\n",
       "      <th>SpecialCH</th>\n",
       "      <th>SpecialMM</th>\n",
       "      <th>LoyalCH</th>\n",
       "      <th>SalePriceMM</th>\n",
       "      <th>SalePriceCH</th>\n",
       "      <th>PriceDiff</th>\n",
       "      <th>PctDiscMM</th>\n",
       "      <th>PctDiscCH</th>\n",
       "      <th>ListPriceDiff</th>\n",
       "      <th>STORE</th>\n",
       "    </tr>\n",
       "  </thead>\n",
       "  <tbody>\n",
       "    <tr>\n",
       "      <th>WeekofPurchase</th>\n",
       "      <td>1.000000</td>\n",
       "      <td>0.096046</td>\n",
       "      <td>0.704324</td>\n",
       "      <td>0.576872</td>\n",
       "      <td>0.365722</td>\n",
       "      <td>0.242334</td>\n",
       "      <td>0.107866</td>\n",
       "      <td>0.070688</td>\n",
       "      <td>0.192897</td>\n",
       "      <td>0.101719</td>\n",
       "      <td>0.201256</td>\n",
       "      <td>-0.011610</td>\n",
       "      <td>0.223533</td>\n",
       "      <td>0.355047</td>\n",
       "      <td>0.053038</td>\n",
       "      <td>-0.053652</td>\n",
       "    </tr>\n",
       "    <tr>\n",
       "      <th>StoreID</th>\n",
       "      <td>0.096046</td>\n",
       "      <td>1.000000</td>\n",
       "      <td>0.020815</td>\n",
       "      <td>0.093344</td>\n",
       "      <td>0.333182</td>\n",
       "      <td>0.010619</td>\n",
       "      <td>0.379360</td>\n",
       "      <td>-0.171641</td>\n",
       "      <td>0.237333</td>\n",
       "      <td>0.040655</td>\n",
       "      <td>-0.258172</td>\n",
       "      <td>0.174144</td>\n",
       "      <td>0.014302</td>\n",
       "      <td>0.334715</td>\n",
       "      <td>0.096913</td>\n",
       "      <td>-0.531597</td>\n",
       "    </tr>\n",
       "    <tr>\n",
       "      <th>PriceCH</th>\n",
       "      <td>0.704324</td>\n",
       "      <td>0.020815</td>\n",
       "      <td>1.000000</td>\n",
       "      <td>0.616402</td>\n",
       "      <td>0.151900</td>\n",
       "      <td>0.116310</td>\n",
       "      <td>-0.099056</td>\n",
       "      <td>-0.018026</td>\n",
       "      <td>0.077793</td>\n",
       "      <td>0.229383</td>\n",
       "      <td>0.586716</td>\n",
       "      <td>-0.096335</td>\n",
       "      <td>0.099157</td>\n",
       "      <td>0.134601</td>\n",
       "      <td>-0.177935</td>\n",
       "      <td>0.399570</td>\n",
       "    </tr>\n",
       "    <tr>\n",
       "      <th>PriceMM</th>\n",
       "      <td>0.576872</td>\n",
       "      <td>0.093344</td>\n",
       "      <td>0.616402</td>\n",
       "      <td>1.000000</td>\n",
       "      <td>0.065206</td>\n",
       "      <td>-0.001246</td>\n",
       "      <td>-0.031281</td>\n",
       "      <td>-0.068340</td>\n",
       "      <td>0.115570</td>\n",
       "      <td>0.532859</td>\n",
       "      <td>0.384941</td>\n",
       "      <td>0.292594</td>\n",
       "      <td>-0.021747</td>\n",
       "      <td>0.059964</td>\n",
       "      <td>0.665187</td>\n",
       "      <td>0.106612</td>\n",
       "    </tr>\n",
       "    <tr>\n",
       "      <th>DiscCH</th>\n",
       "      <td>0.365722</td>\n",
       "      <td>0.333182</td>\n",
       "      <td>0.151900</td>\n",
       "      <td>0.065206</td>\n",
       "      <td>1.000000</td>\n",
       "      <td>0.018035</td>\n",
       "      <td>0.534775</td>\n",
       "      <td>-0.046952</td>\n",
       "      <td>0.139400</td>\n",
       "      <td>0.019416</td>\n",
       "      <td>-0.711274</td>\n",
       "      <td>0.393615</td>\n",
       "      <td>0.014718</td>\n",
       "      <td>0.999022</td>\n",
       "      <td>-0.062551</td>\n",
       "      <td>-0.243812</td>\n",
       "    </tr>\n",
       "    <tr>\n",
       "      <th>DiscMM</th>\n",
       "      <td>0.242334</td>\n",
       "      <td>0.010619</td>\n",
       "      <td>0.116310</td>\n",
       "      <td>-0.001246</td>\n",
       "      <td>0.018035</td>\n",
       "      <td>1.000000</td>\n",
       "      <td>0.156636</td>\n",
       "      <td>0.465792</td>\n",
       "      <td>-0.020292</td>\n",
       "      <td>-0.846868</td>\n",
       "      <td>0.067940</td>\n",
       "      <td>-0.823908</td>\n",
       "      <td>0.998793</td>\n",
       "      <td>0.018521</td>\n",
       "      <td>-0.111848</td>\n",
       "      <td>-0.125917</td>\n",
       "    </tr>\n",
       "    <tr>\n",
       "      <th>SpecialCH</th>\n",
       "      <td>0.107866</td>\n",
       "      <td>0.379360</td>\n",
       "      <td>-0.099056</td>\n",
       "      <td>-0.031281</td>\n",
       "      <td>0.534775</td>\n",
       "      <td>0.156636</td>\n",
       "      <td>1.000000</td>\n",
       "      <td>-0.154170</td>\n",
       "      <td>0.137058</td>\n",
       "      <td>-0.149182</td>\n",
       "      <td>-0.508586</td>\n",
       "      <td>0.129713</td>\n",
       "      <td>0.160750</td>\n",
       "      <td>0.549015</td>\n",
       "      <td>0.054838</td>\n",
       "      <td>-0.321847</td>\n",
       "    </tr>\n",
       "    <tr>\n",
       "      <th>SpecialMM</th>\n",
       "      <td>0.070688</td>\n",
       "      <td>-0.171641</td>\n",
       "      <td>-0.018026</td>\n",
       "      <td>-0.068340</td>\n",
       "      <td>-0.046952</td>\n",
       "      <td>0.465792</td>\n",
       "      <td>-0.154170</td>\n",
       "      <td>1.000000</td>\n",
       "      <td>-0.088246</td>\n",
       "      <td>-0.430499</td>\n",
       "      <td>0.025648</td>\n",
       "      <td>-0.414135</td>\n",
       "      <td>0.466546</td>\n",
       "      <td>-0.051138</td>\n",
       "      <td>-0.068311</td>\n",
       "      <td>-0.083691</td>\n",
       "    </tr>\n",
       "    <tr>\n",
       "      <th>LoyalCH</th>\n",
       "      <td>0.192897</td>\n",
       "      <td>0.237333</td>\n",
       "      <td>0.077793</td>\n",
       "      <td>0.115570</td>\n",
       "      <td>0.139400</td>\n",
       "      <td>-0.020292</td>\n",
       "      <td>0.137058</td>\n",
       "      <td>-0.088246</td>\n",
       "      <td>1.000000</td>\n",
       "      <td>0.078631</td>\n",
       "      <td>-0.058887</td>\n",
       "      <td>0.104261</td>\n",
       "      <td>-0.022460</td>\n",
       "      <td>0.138684</td>\n",
       "      <td>0.070659</td>\n",
       "      <td>-0.103126</td>\n",
       "    </tr>\n",
       "    <tr>\n",
       "      <th>SalePriceMM</th>\n",
       "      <td>0.101719</td>\n",
       "      <td>0.040655</td>\n",
       "      <td>0.229383</td>\n",
       "      <td>0.532859</td>\n",
       "      <td>0.019416</td>\n",
       "      <td>-0.846868</td>\n",
       "      <td>-0.149182</td>\n",
       "      <td>-0.430499</td>\n",
       "      <td>0.078631</td>\n",
       "      <td>1.000000</td>\n",
       "      <td>0.147222</td>\n",
       "      <td>0.852798</td>\n",
       "      <td>-0.856749</td>\n",
       "      <td>0.016216</td>\n",
       "      <td>0.448395</td>\n",
       "      <td>0.163248</td>\n",
       "    </tr>\n",
       "    <tr>\n",
       "      <th>SalePriceCH</th>\n",
       "      <td>0.201256</td>\n",
       "      <td>-0.258172</td>\n",
       "      <td>0.586716</td>\n",
       "      <td>0.384941</td>\n",
       "      <td>-0.711274</td>\n",
       "      <td>0.067940</td>\n",
       "      <td>-0.508586</td>\n",
       "      <td>0.025648</td>\n",
       "      <td>-0.058887</td>\n",
       "      <td>0.147222</td>\n",
       "      <td>1.000000</td>\n",
       "      <td>-0.390999</td>\n",
       "      <td>0.058459</td>\n",
       "      <td>-0.722776</td>\n",
       "      <td>-0.075294</td>\n",
       "      <td>0.483916</td>\n",
       "    </tr>\n",
       "    <tr>\n",
       "      <th>PriceDiff</th>\n",
       "      <td>-0.011610</td>\n",
       "      <td>0.174144</td>\n",
       "      <td>-0.096335</td>\n",
       "      <td>0.292594</td>\n",
       "      <td>0.393615</td>\n",
       "      <td>-0.823908</td>\n",
       "      <td>0.129713</td>\n",
       "      <td>-0.414135</td>\n",
       "      <td>0.104261</td>\n",
       "      <td>0.852798</td>\n",
       "      <td>-0.390999</td>\n",
       "      <td>1.000000</td>\n",
       "      <td>-0.828097</td>\n",
       "      <td>0.396711</td>\n",
       "      <td>0.457000</td>\n",
       "      <td>-0.103597</td>\n",
       "    </tr>\n",
       "    <tr>\n",
       "      <th>PctDiscMM</th>\n",
       "      <td>0.223533</td>\n",
       "      <td>0.014302</td>\n",
       "      <td>0.099157</td>\n",
       "      <td>-0.021747</td>\n",
       "      <td>0.014718</td>\n",
       "      <td>0.998793</td>\n",
       "      <td>0.160750</td>\n",
       "      <td>0.466546</td>\n",
       "      <td>-0.022460</td>\n",
       "      <td>-0.856749</td>\n",
       "      <td>0.058459</td>\n",
       "      <td>-0.828097</td>\n",
       "      <td>1.000000</td>\n",
       "      <td>0.015317</td>\n",
       "      <td>-0.121203</td>\n",
       "      <td>-0.135256</td>\n",
       "    </tr>\n",
       "    <tr>\n",
       "      <th>PctDiscCH</th>\n",
       "      <td>0.355047</td>\n",
       "      <td>0.334715</td>\n",
       "      <td>0.134601</td>\n",
       "      <td>0.059964</td>\n",
       "      <td>0.999022</td>\n",
       "      <td>0.018521</td>\n",
       "      <td>0.549015</td>\n",
       "      <td>-0.051138</td>\n",
       "      <td>0.138684</td>\n",
       "      <td>0.016216</td>\n",
       "      <td>-0.722776</td>\n",
       "      <td>0.396711</td>\n",
       "      <td>0.015317</td>\n",
       "      <td>1.000000</td>\n",
       "      <td>-0.052699</td>\n",
       "      <td>-0.252330</td>\n",
       "    </tr>\n",
       "    <tr>\n",
       "      <th>ListPriceDiff</th>\n",
       "      <td>0.053038</td>\n",
       "      <td>0.096913</td>\n",
       "      <td>-0.177935</td>\n",
       "      <td>0.665187</td>\n",
       "      <td>-0.062551</td>\n",
       "      <td>-0.111848</td>\n",
       "      <td>0.054838</td>\n",
       "      <td>-0.068311</td>\n",
       "      <td>0.070659</td>\n",
       "      <td>0.448395</td>\n",
       "      <td>-0.075294</td>\n",
       "      <td>0.457000</td>\n",
       "      <td>-0.121203</td>\n",
       "      <td>-0.052699</td>\n",
       "      <td>1.000000</td>\n",
       "      <td>-0.245658</td>\n",
       "    </tr>\n",
       "    <tr>\n",
       "      <th>STORE</th>\n",
       "      <td>-0.053652</td>\n",
       "      <td>-0.531597</td>\n",
       "      <td>0.399570</td>\n",
       "      <td>0.106612</td>\n",
       "      <td>-0.243812</td>\n",
       "      <td>-0.125917</td>\n",
       "      <td>-0.321847</td>\n",
       "      <td>-0.083691</td>\n",
       "      <td>-0.103126</td>\n",
       "      <td>0.163248</td>\n",
       "      <td>0.483916</td>\n",
       "      <td>-0.103597</td>\n",
       "      <td>-0.135256</td>\n",
       "      <td>-0.252330</td>\n",
       "      <td>-0.245658</td>\n",
       "      <td>1.000000</td>\n",
       "    </tr>\n",
       "  </tbody>\n",
       "</table>\n",
       "</div>"
      ],
      "text/plain": [
       "                WeekofPurchase   StoreID   PriceCH   PriceMM    DiscCH  \\\n",
       "WeekofPurchase        1.000000  0.096046  0.704324  0.576872  0.365722   \n",
       "StoreID               0.096046  1.000000  0.020815  0.093344  0.333182   \n",
       "PriceCH               0.704324  0.020815  1.000000  0.616402  0.151900   \n",
       "PriceMM               0.576872  0.093344  0.616402  1.000000  0.065206   \n",
       "DiscCH                0.365722  0.333182  0.151900  0.065206  1.000000   \n",
       "DiscMM                0.242334  0.010619  0.116310 -0.001246  0.018035   \n",
       "SpecialCH             0.107866  0.379360 -0.099056 -0.031281  0.534775   \n",
       "SpecialMM             0.070688 -0.171641 -0.018026 -0.068340 -0.046952   \n",
       "LoyalCH               0.192897  0.237333  0.077793  0.115570  0.139400   \n",
       "SalePriceMM           0.101719  0.040655  0.229383  0.532859  0.019416   \n",
       "SalePriceCH           0.201256 -0.258172  0.586716  0.384941 -0.711274   \n",
       "PriceDiff            -0.011610  0.174144 -0.096335  0.292594  0.393615   \n",
       "PctDiscMM             0.223533  0.014302  0.099157 -0.021747  0.014718   \n",
       "PctDiscCH             0.355047  0.334715  0.134601  0.059964  0.999022   \n",
       "ListPriceDiff         0.053038  0.096913 -0.177935  0.665187 -0.062551   \n",
       "STORE                -0.053652 -0.531597  0.399570  0.106612 -0.243812   \n",
       "\n",
       "                  DiscMM  SpecialCH  SpecialMM   LoyalCH  SalePriceMM  \\\n",
       "WeekofPurchase  0.242334   0.107866   0.070688  0.192897     0.101719   \n",
       "StoreID         0.010619   0.379360  -0.171641  0.237333     0.040655   \n",
       "PriceCH         0.116310  -0.099056  -0.018026  0.077793     0.229383   \n",
       "PriceMM        -0.001246  -0.031281  -0.068340  0.115570     0.532859   \n",
       "DiscCH          0.018035   0.534775  -0.046952  0.139400     0.019416   \n",
       "DiscMM          1.000000   0.156636   0.465792 -0.020292    -0.846868   \n",
       "SpecialCH       0.156636   1.000000  -0.154170  0.137058    -0.149182   \n",
       "SpecialMM       0.465792  -0.154170   1.000000 -0.088246    -0.430499   \n",
       "LoyalCH        -0.020292   0.137058  -0.088246  1.000000     0.078631   \n",
       "SalePriceMM    -0.846868  -0.149182  -0.430499  0.078631     1.000000   \n",
       "SalePriceCH     0.067940  -0.508586   0.025648 -0.058887     0.147222   \n",
       "PriceDiff      -0.823908   0.129713  -0.414135  0.104261     0.852798   \n",
       "PctDiscMM       0.998793   0.160750   0.466546 -0.022460    -0.856749   \n",
       "PctDiscCH       0.018521   0.549015  -0.051138  0.138684     0.016216   \n",
       "ListPriceDiff  -0.111848   0.054838  -0.068311  0.070659     0.448395   \n",
       "STORE          -0.125917  -0.321847  -0.083691 -0.103126     0.163248   \n",
       "\n",
       "                SalePriceCH  PriceDiff  PctDiscMM  PctDiscCH  ListPriceDiff  \\\n",
       "WeekofPurchase     0.201256  -0.011610   0.223533   0.355047       0.053038   \n",
       "StoreID           -0.258172   0.174144   0.014302   0.334715       0.096913   \n",
       "PriceCH            0.586716  -0.096335   0.099157   0.134601      -0.177935   \n",
       "PriceMM            0.384941   0.292594  -0.021747   0.059964       0.665187   \n",
       "DiscCH            -0.711274   0.393615   0.014718   0.999022      -0.062551   \n",
       "DiscMM             0.067940  -0.823908   0.998793   0.018521      -0.111848   \n",
       "SpecialCH         -0.508586   0.129713   0.160750   0.549015       0.054838   \n",
       "SpecialMM          0.025648  -0.414135   0.466546  -0.051138      -0.068311   \n",
       "LoyalCH           -0.058887   0.104261  -0.022460   0.138684       0.070659   \n",
       "SalePriceMM        0.147222   0.852798  -0.856749   0.016216       0.448395   \n",
       "SalePriceCH        1.000000  -0.390999   0.058459  -0.722776      -0.075294   \n",
       "PriceDiff         -0.390999   1.000000  -0.828097   0.396711       0.457000   \n",
       "PctDiscMM          0.058459  -0.828097   1.000000   0.015317      -0.121203   \n",
       "PctDiscCH         -0.722776   0.396711   0.015317   1.000000      -0.052699   \n",
       "ListPriceDiff     -0.075294   0.457000  -0.121203  -0.052699       1.000000   \n",
       "STORE              0.483916  -0.103597  -0.135256  -0.252330      -0.245658   \n",
       "\n",
       "                   STORE  \n",
       "WeekofPurchase -0.053652  \n",
       "StoreID        -0.531597  \n",
       "PriceCH         0.399570  \n",
       "PriceMM         0.106612  \n",
       "DiscCH         -0.243812  \n",
       "DiscMM         -0.125917  \n",
       "SpecialCH      -0.321847  \n",
       "SpecialMM      -0.083691  \n",
       "LoyalCH        -0.103126  \n",
       "SalePriceMM     0.163248  \n",
       "SalePriceCH     0.483916  \n",
       "PriceDiff      -0.103597  \n",
       "PctDiscMM      -0.135256  \n",
       "PctDiscCH      -0.252330  \n",
       "ListPriceDiff  -0.245658  \n",
       "STORE           1.000000  "
      ]
     },
     "execution_count": 61,
     "metadata": {},
     "output_type": "execute_result"
    }
   ],
   "source": [
    "df.corr()"
   ]
  },
  {
   "cell_type": "markdown",
   "id": "f5044718",
   "metadata": {},
   "source": [
    "# **(a) Create a training set containing a random sample of 800 observations, and a test set containing the remaining observations**"
   ]
  },
  {
   "cell_type": "code",
   "execution_count": 62,
   "id": "475134a2",
   "metadata": {},
   "outputs": [],
   "source": [
    "train_sample_indx = np.random.choice(np.arange(len(df)), size=800, replace=False)\n",
    "train = df.loc[train_sample_indx]\n",
    "\n",
    "test_sample_indx = [i for i in df.index if i not in train_sample_indx]\n",
    "test = df.loc[test_sample_indx]"
   ]
  },
  {
   "cell_type": "code",
   "execution_count": 63,
   "id": "ffeabc7a",
   "metadata": {},
   "outputs": [
    {
     "name": "stdout",
     "output_type": "stream",
     "text": [
      "Shape of Testing dataset : (270, 18)\n",
      "Shape of trainig dataset : (800, 18)\n"
     ]
    }
   ],
   "source": [
    "print(\"Shape of Testing dataset :\",test.shape)\n",
    "print(\"Shape of trainig dataset :\",train.shape)"
   ]
  },
  {
   "cell_type": "markdown",
   "id": "4ceb0445",
   "metadata": {},
   "source": [
    "# **(b) Fit a tree to the training data, with Purchase as the response and the other variables as predictors. Use the summary() function to produce summary statistics about the tree, and describe the results obtained. What is the training error rate? How many terminal nodes does the tree have?**"
   ]
  },
  {
   "cell_type": "code",
   "execution_count": 64,
   "id": "79d11b55",
   "metadata": {},
   "outputs": [],
   "source": [
    "# \n",
    "train['Store7'] = train.Store7.map(lambda x:1 if x=='Yes' else 0)\n",
    "test['Store7'] = test.Store7.map(lambda x:1 if x=='Yes' else 0)\n",
    "\n",
    "X_train = np.array(train[train.columns[1:]])\n",
    "y_train = np.array(train.Purchase.map(lambda x:1 if x=='CH' else 0))\n",
    "\n",
    "X_test = np.array(test[test.columns[1:]])\n",
    "y_test = np.array(test.Purchase.map(lambda x:1 if x=='CH' else 0))"
   ]
  },
  {
   "cell_type": "code",
   "execution_count": 65,
   "id": "f4feb3b4",
   "metadata": {},
   "outputs": [],
   "source": [
    "from sklearn.tree import DecisionTreeClassifier\n",
    "from sklearn import tree\n",
    "from sklearn.tree import export_text"
   ]
  },
  {
   "cell_type": "code",
   "execution_count": 66,
   "id": "2ebf0051",
   "metadata": {},
   "outputs": [
    {
     "name": "stdout",
     "output_type": "stream",
     "text": [
      "training error: 16.400000000000006\n",
      "terminal nodes does the tree 8\n",
      "----------------------------------------------------------------------------------------------------\n"
     ]
    }
   ],
   "source": [
    "clf = DecisionTreeClassifier(max_leaf_nodes=8).fit(X_train, y_train)\n",
    "tree_score = clf.score(X_train, y_train)\n",
    "\n",
    "\n",
    "print('training error: {}'.format(100 - (100*np.around(clf.score(X_train, y_train), 3))))\n",
    "print('terminal nodes does the tree',clf.tree_.n_leaves)\n",
    "print('-'*100)"
   ]
  },
  {
   "cell_type": "code",
   "execution_count": 67,
   "id": "0caabb53",
   "metadata": {},
   "outputs": [],
   "source": [
    "from sklearn.model_selection import train_test_split\n",
    "from sklearn.tree import DecisionTreeClassifier, DecisionTreeRegressor, export_graphviz\n",
    "from sklearn.ensemble import RandomForestClassifier, RandomForestRegressor, GradientBoostingRegressor, GradientBoostingClassifier\n",
    "from sklearn.metrics import confusion_matrix, mean_squared_error, classification_report, roc_curve, roc_auc_score\n",
    "from sklearn.model_selection import cross_val_score"
   ]
  },
  {
   "cell_type": "code",
   "execution_count": 68,
   "id": "6b9c2b48",
   "metadata": {},
   "outputs": [
    {
     "name": "stdout",
     "output_type": "stream",
     "text": [
      "     No  Yes\n",
      "No   78   28\n",
      "Yes  31  133\n"
     ]
    }
   ],
   "source": [
    "y_pred = clf.predict(X_test)\n",
    "\n",
    "class_mat = pd.DataFrame(confusion_matrix(y_test, y_pred).T, index = ['No', 'Yes'], columns = ['No', 'Yes'])\n",
    "print(class_mat)"
   ]
  },
  {
   "cell_type": "code",
   "execution_count": 69,
   "id": "5949955c",
   "metadata": {},
   "outputs": [
    {
     "name": "stdout",
     "output_type": "stream",
     "text": [
      "              precision    recall  f1-score   support\n",
      "\n",
      "           0       0.74      0.72      0.73       109\n",
      "           1       0.81      0.83      0.82       161\n",
      "\n",
      "    accuracy                           0.78       270\n",
      "   macro avg       0.77      0.77      0.77       270\n",
      "weighted avg       0.78      0.78      0.78       270\n",
      "\n"
     ]
    }
   ],
   "source": [
    "print(classification_report(y_test, y_pred))"
   ]
  },
  {
   "cell_type": "markdown",
   "id": "e9914801",
   "metadata": {},
   "source": [
    "# **(c) Type in the name of the tree object in order to get a detailed text output. Pick one of the terminal nodes, and interpret the information displayed.**"
   ]
  },
  {
   "cell_type": "code",
   "execution_count": 70,
   "id": "de891ea1",
   "metadata": {},
   "outputs": [
    {
     "name": "stdout",
     "output_type": "stream",
     "text": [
      "|--- feature_8 <= 0.48\n",
      "|   |--- feature_8 <= 0.08\n",
      "|   |   |--- class: 0\n",
      "|   |--- feature_8 >  0.08\n",
      "|   |   |--- feature_9 <= 2.04\n",
      "|   |   |   |--- class: 0\n",
      "|   |   |--- feature_9 >  2.04\n",
      "|   |   |   |--- class: 0\n",
      "|--- feature_8 >  0.48\n",
      "|   |--- feature_11 <= -0.39\n",
      "|   |   |--- feature_8 <= 0.76\n",
      "|   |   |   |--- class: 0\n",
      "|   |   |--- feature_8 >  0.76\n",
      "|   |   |   |--- class: 1\n",
      "|   |--- feature_11 >  -0.39\n",
      "|   |   |--- feature_8 <= 0.70\n",
      "|   |   |   |--- feature_11 <= 0.27\n",
      "|   |   |   |   |--- class: 1\n",
      "|   |   |   |--- feature_11 >  0.27\n",
      "|   |   |   |   |--- class: 1\n",
      "|   |   |--- feature_8 >  0.70\n",
      "|   |   |   |--- class: 1\n",
      "\n"
     ]
    }
   ],
   "source": [
    "text_representation = tree.export_text(clf)\n",
    "\n",
    "print(text_representation)"
   ]
  },
  {
   "cell_type": "code",
   "execution_count": 71,
   "id": "10965df0",
   "metadata": {},
   "outputs": [],
   "source": [
    "# Sabving text representation\n",
    "with open(\"decistion_tree.log\", \"w\") as fout:\n",
    "    fout.write(text_representation)"
   ]
  },
  {
   "cell_type": "markdown",
   "id": "4be99366",
   "metadata": {},
   "source": [
    "# **(d) Create a plot of the tree, and interpret the results.**"
   ]
  },
  {
   "cell_type": "code",
   "execution_count": 72,
   "id": "d1df1182",
   "metadata": {},
   "outputs": [
    {
     "data": {
      "image/png": "[encoded data removed]",
      "text/plain": [
       "<Figure size 1800x1440 with 1 Axes>"
      ]
     },
     "metadata": {
      "needs_background": "light"
     },
     "output_type": "display_data"
    }
   ],
   "source": [
    "fig = plt.figure(figsize=(25,20))\n",
    "_ = tree.plot_tree(clf,feature_names=train.columns[1:],filled=True)"
   ]
  },
  {
   "cell_type": "code",
   "execution_count": 73,
   "id": "099f2e39",
   "metadata": {},
   "outputs": [],
   "source": [
    "from io import StringIO\n",
    "import pydotplus"
   ]
  },
  {
   "cell_type": "code",
   "execution_count": 74,
   "id": "25f7a317",
   "metadata": {},
   "outputs": [],
   "source": [
    "from IPython.display import Image  "
   ]
  },
  {
   "cell_type": "code",
   "execution_count": 75,
   "id": "8dd79118",
   "metadata": {},
   "outputs": [
    {
     "data": {
      "image/png": "[encoded data removed]",
      "text/plain": [
       "<IPython.core.display.Image object>"
      ]
     },
     "execution_count": 75,
     "metadata": {},
     "output_type": "execute_result"
    }
   ],
   "source": [
    "dot_data = StringIO()\n",
    "\n",
    "export_graphviz(clf, out_file=dot_data, filled=True, rounded=True, special_characters=True)\n",
    "\n",
    "graph = pydotplus.graph_from_dot_data(dot_data.getvalue())  \n",
    "Image(graph.create_png())"
   ]
  },
  {
   "cell_type": "markdown",
   "id": "7ac01e4d",
   "metadata": {},
   "source": [
    "# **(e) Predict the response on the test data, and produce a confusion matrix comparing the test labels to the predicted test labels. What is the test error rate?**"
   ]
  },
  {
   "cell_type": "code",
   "execution_count": 76,
   "id": "7f001b55",
   "metadata": {},
   "outputs": [
    {
     "data": {
      "image/png": "[encoded data removed]",
      "text/plain": [
       "<Figure size 432x288 with 2 Axes>"
      ]
     },
     "metadata": {
      "needs_background": "light"
     },
     "output_type": "display_data"
    }
   ],
   "source": [
    "pred = clf.predict(X_test)\n",
    "\n",
    "cm = confusion_matrix(y_pred=pred,y_true=y_test)\n",
    "sns.heatmap(cm,annot=True,cmap='Blues', fmt='g')\n",
    "plt.show()"
   ]
  },
  {
   "cell_type": "code",
   "execution_count": 77,
   "id": "e012d6ff",
   "metadata": {},
   "outputs": [
    {
     "name": "stdout",
     "output_type": "stream",
     "text": [
      "test error rate of decision tree model: 21.851851851851862\n"
     ]
    }
   ],
   "source": [
    "print('test error rate of decision tree model:',100 - (100 * accuracy_score(y_test,pred)))"
   ]
  },
  {
   "cell_type": "markdown",
   "id": "4a5b3a20",
   "metadata": {},
   "source": [
    "# **(f) Apply the cv.tree() function to the training set in order to determine the optimal tree size.**"
   ]
  },
  {
   "cell_type": "code",
   "execution_count": 78,
   "id": "77937abe",
   "metadata": {},
   "outputs": [
    {
     "name": "stdout",
     "output_type": "stream",
     "text": [
      "Optimal Tree Size:\n",
      "Leaves\n",
      "4.0    0.825\n",
      "5.0    0.825\n",
      "Name: Test, dtype: float64\n"
     ]
    }
   ],
   "source": [
    "folds = 10\n",
    "\n",
    "outputs = []\n",
    "for node in np.arange(2, 50):\n",
    "    clf = tree.DecisionTreeClassifier(max_leaf_nodes=node)\n",
    "    score = cross_val_score(clf, X_train, y_train, cv=folds)\n",
    "    outputs.append([node, np.mean(score)])\n",
    "\n",
    "\n",
    "\n",
    "df_plot = pd.DataFrame(np.asarray(outputs), columns=['Leaves', 'Test']).set_index('Leaves')\n",
    "\n",
    "print('Optimal Tree Size:')\n",
    "print(df_plot['Test'][df_plot['Test'] == df_plot['Test'].max()])"
   ]
  },
  {
   "cell_type": "markdown",
   "id": "b0dee3d4",
   "metadata": {},
   "source": [
    "# **(g) Produce a plot with tree size on the x-axis and cross-validated classification error rate on the y-axis.**"
   ]
  },
  {
   "cell_type": "code",
   "execution_count": 79,
   "id": "fb9f7c86",
   "metadata": {},
   "outputs": [
    {
     "data": {
      "image/png": "[encoded data removed]",
      "text/plain": [
       "<Figure size 720x360 with 1 Axes>"
      ]
     },
     "metadata": {
      "needs_background": "light"
     },
     "output_type": "display_data"
    }
   ],
   "source": [
    "plt.figure(figsize=(10,5))\n",
    "df_plot = pd.DataFrame(np.asarray(outputs), columns=['Leaves', 'Test']).set_index('Leaves')\n",
    "sns.lineplot(data=df_plot);\n",
    "plt.ylabel('cross-validated error rate')\n",
    "plt.show();"
   ]
  },
  {
   "cell_type": "markdown",
   "id": "e45020d3",
   "metadata": {},
   "source": [
    "# **(h) Which tree size corresponds to the lowest cross-validated classification error rate?**"
   ]
  },
  {
   "cell_type": "code",
   "execution_count": 80,
   "id": "03758fbf",
   "metadata": {},
   "outputs": [
    {
     "data": {
      "image/png": "[encoded data removed]",
      "text/plain": [
       "<Figure size 720x360 with 1 Axes>"
      ]
     },
     "metadata": {
      "needs_background": "light"
     },
     "output_type": "display_data"
    },
    {
     "name": "stdout",
     "output_type": "stream",
     "text": [
      "Optimal tree size:\n",
      "Leaves\n",
      "13.0    0.825926\n",
      "Name: Test, dtype: float64\n"
     ]
    }
   ],
   "source": [
    "outputs = []\n",
    "for node in np.arange(2, 50):\n",
    "    clf = tree.DecisionTreeClassifier(max_leaf_nodes=node).fit(X_train, y_train)\n",
    "\n",
    "    accuracy_train = clf.score(X_train, y_train)  \n",
    "    accuracy_test = clf.score(X_test, y_test)  \n",
    "    outputs += [[node, accuracy_train, accuracy_test]]\n",
    "\n",
    "plt.figure(figsize=(10,5))\n",
    "df_plot = pd.DataFrame(np.asarray(outputs), columns=['Leaves', 'Train', 'Test']).set_index('Leaves')\n",
    "sns.lineplot(data=df_plot);\n",
    "plt.ylabel('accuracy')\n",
    "plt.show();\n",
    "\n",
    "print('Optimal tree size:')\n",
    "print(df_plot['Test'][df_plot['Test'] == df_plot['Test'].max()])"
   ]
  },
  {
   "cell_type": "markdown",
   "id": "7abc8cbc",
   "metadata": {},
   "source": [
    "# (i) Produce a pruned tree corresponding to the optimal tree size obtained using cross-validation. If cross-validation does not lead to selection of a pruned tree, then create a pruned tree with five terminal nodes"
   ]
  },
  {
   "cell_type": "code",
   "execution_count": 81,
   "id": "94bc7038",
   "metadata": {},
   "outputs": [
    {
     "data": {
      "image/png": "[encoded data removed]",
      "text/plain": [
       "<Figure size 720x432 with 1 Axes>"
      ]
     },
     "metadata": {
      "needs_background": "light"
     },
     "output_type": "display_data"
    },
    {
     "data": {
      "text/html": [
       "<div>\n",
       "<style scoped>\n",
       "    .dataframe tbody tr th:only-of-type {\n",
       "        vertical-align: middle;\n",
       "    }\n",
       "\n",
       "    .dataframe tbody tr th {\n",
       "        vertical-align: top;\n",
       "    }\n",
       "\n",
       "    .dataframe thead th {\n",
       "        text-align: right;\n",
       "    }\n",
       "</style>\n",
       "<table border=\"1\" class=\"dataframe\">\n",
       "  <thead>\n",
       "    <tr style=\"text-align: right;\">\n",
       "      <th></th>\n",
       "      <th>test</th>\n",
       "      <th>error rate</th>\n",
       "    </tr>\n",
       "  </thead>\n",
       "  <tbody>\n",
       "    <tr>\n",
       "      <th>0</th>\n",
       "      <td>unpruned_train</td>\n",
       "      <td>0.007500</td>\n",
       "    </tr>\n",
       "    <tr>\n",
       "      <th>1</th>\n",
       "      <td>pruned_train</td>\n",
       "      <td>0.168750</td>\n",
       "    </tr>\n",
       "    <tr>\n",
       "      <th>2</th>\n",
       "      <td>unpruned_test</td>\n",
       "      <td>0.248148</td>\n",
       "    </tr>\n",
       "    <tr>\n",
       "      <th>3</th>\n",
       "      <td>pruned_test</td>\n",
       "      <td>0.222222</td>\n",
       "    </tr>\n",
       "  </tbody>\n",
       "</table>\n",
       "</div>"
      ],
      "text/plain": [
       "             test  error rate\n",
       "0  unpruned_train    0.007500\n",
       "1    pruned_train    0.168750\n",
       "2   unpruned_test    0.248148\n",
       "3     pruned_test    0.222222"
      ]
     },
     "metadata": {},
     "output_type": "display_data"
    }
   ],
   "source": [
    "clf_unpruned = tree.DecisionTreeClassifier().fit(X_train, y_train)\n",
    "clf_pruned   = tree.DecisionTreeClassifier(max_leaf_nodes=7).fit(X_train, y_train)\n",
    "\n",
    "scores = [['unpruned_train', 1 - clf_unpruned.score(X_train, y_train)],\n",
    "          ['pruned_train', 1 - clf_pruned.score(X_train, y_train)],\n",
    "          ['unpruned_test', 1 - clf_unpruned.score(X_test, y_test)],\n",
    "          ['pruned_test', 1 - clf_pruned.score(X_test, y_test)]]\n",
    "\n",
    "plot_df = pd.DataFrame(scores, columns=['test', 'error rate'])\n",
    "\n",
    "plt.figure(figsize=(10, 6))\n",
    "sns.barplot(x='test', y='error rate', data=plot_df)\n",
    "plt.show();\n",
    "\n",
    "display(plot_df)"
   ]
  },
  {
   "cell_type": "markdown",
   "id": "e8aaeb0c",
   "metadata": {},
   "source": [
    "# In the training scenario, the unpruned tree outperforms the pruned tree, while in the test setting, the pruned tree outperforms the unpruned tree. This indicates that the unpruned tree is overfitting the training data, which results in a low test score"
   ]
  },
  {
   "cell_type": "markdown",
   "id": "950b0d7a",
   "metadata": {},
   "source": [
    "# (j) Compare the training error rates between the pruned and unpruned trees. Which is higher?"
   ]
  },
  {
   "cell_type": "markdown",
   "id": "1f1a7f50",
   "metadata": {},
   "source": [
    "# Sol: pruned tree has higher training error rate"
   ]
  },
  {
   "cell_type": "markdown",
   "id": "e54be62c",
   "metadata": {},
   "source": [
    "# (k) Compare the test error rates between the pruned and unpruned trees. Which is higher?"
   ]
  },
  {
   "cell_type": "markdown",
   "id": "ea572e1d",
   "metadata": {},
   "source": [
    "# Sol: unpruned tree has higher testing error rate"
   ]
  },
  {
   "cell_type": "markdown",
   "id": "3ff4cbf7",
   "metadata": {},
   "source": [
    "#       "
   ]
  },
  {
   "cell_type": "markdown",
   "id": "cca84d3b",
   "metadata": {},
   "source": [
    "# Pblm 4"
   ]
  },
  {
   "cell_type": "code",
   "execution_count": 77,
   "id": "c8b9c245",
   "metadata": {},
   "outputs": [
    {
     "data": {
      "text/html": [
       "<div>\n",
       "<style scoped>\n",
       "    .dataframe tbody tr th:only-of-type {\n",
       "        vertical-align: middle;\n",
       "    }\n",
       "\n",
       "    .dataframe tbody tr th {\n",
       "        vertical-align: top;\n",
       "    }\n",
       "\n",
       "    .dataframe thead th {\n",
       "        text-align: right;\n",
       "    }\n",
       "</style>\n",
       "<table border=\"1\" class=\"dataframe\">\n",
       "  <thead>\n",
       "    <tr style=\"text-align: right;\">\n",
       "      <th></th>\n",
       "      <th>MOSTYPE</th>\n",
       "      <th>MAANTHUI</th>\n",
       "      <th>MGEMOMV</th>\n",
       "      <th>MGEMLEEF</th>\n",
       "      <th>MOSHOOFD</th>\n",
       "      <th>MGODRK</th>\n",
       "      <th>MGODPR</th>\n",
       "      <th>MGODOV</th>\n",
       "      <th>MGODGE</th>\n",
       "      <th>MRELGE</th>\n",
       "      <th>...</th>\n",
       "      <th>APERSONG</th>\n",
       "      <th>AGEZONG</th>\n",
       "      <th>AWAOREG</th>\n",
       "      <th>ABRAND</th>\n",
       "      <th>AZEILPL</th>\n",
       "      <th>APLEZIER</th>\n",
       "      <th>AFIETS</th>\n",
       "      <th>AINBOED</th>\n",
       "      <th>ABYSTAND</th>\n",
       "      <th>Purchase</th>\n",
       "    </tr>\n",
       "  </thead>\n",
       "  <tbody>\n",
       "    <tr>\n",
       "      <th>0</th>\n",
       "      <td>33</td>\n",
       "      <td>1</td>\n",
       "      <td>3</td>\n",
       "      <td>2</td>\n",
       "      <td>8</td>\n",
       "      <td>0</td>\n",
       "      <td>5</td>\n",
       "      <td>1</td>\n",
       "      <td>3</td>\n",
       "      <td>7</td>\n",
       "      <td>...</td>\n",
       "      <td>0</td>\n",
       "      <td>0</td>\n",
       "      <td>0</td>\n",
       "      <td>1</td>\n",
       "      <td>0</td>\n",
       "      <td>0</td>\n",
       "      <td>0</td>\n",
       "      <td>0</td>\n",
       "      <td>0</td>\n",
       "      <td>No</td>\n",
       "    </tr>\n",
       "    <tr>\n",
       "      <th>1</th>\n",
       "      <td>37</td>\n",
       "      <td>1</td>\n",
       "      <td>2</td>\n",
       "      <td>2</td>\n",
       "      <td>8</td>\n",
       "      <td>1</td>\n",
       "      <td>4</td>\n",
       "      <td>1</td>\n",
       "      <td>4</td>\n",
       "      <td>6</td>\n",
       "      <td>...</td>\n",
       "      <td>0</td>\n",
       "      <td>0</td>\n",
       "      <td>0</td>\n",
       "      <td>1</td>\n",
       "      <td>0</td>\n",
       "      <td>0</td>\n",
       "      <td>0</td>\n",
       "      <td>0</td>\n",
       "      <td>0</td>\n",
       "      <td>No</td>\n",
       "    </tr>\n",
       "    <tr>\n",
       "      <th>2</th>\n",
       "      <td>37</td>\n",
       "      <td>1</td>\n",
       "      <td>2</td>\n",
       "      <td>2</td>\n",
       "      <td>8</td>\n",
       "      <td>0</td>\n",
       "      <td>4</td>\n",
       "      <td>2</td>\n",
       "      <td>4</td>\n",
       "      <td>3</td>\n",
       "      <td>...</td>\n",
       "      <td>0</td>\n",
       "      <td>0</td>\n",
       "      <td>0</td>\n",
       "      <td>1</td>\n",
       "      <td>0</td>\n",
       "      <td>0</td>\n",
       "      <td>0</td>\n",
       "      <td>0</td>\n",
       "      <td>0</td>\n",
       "      <td>No</td>\n",
       "    </tr>\n",
       "    <tr>\n",
       "      <th>3</th>\n",
       "      <td>9</td>\n",
       "      <td>1</td>\n",
       "      <td>3</td>\n",
       "      <td>3</td>\n",
       "      <td>3</td>\n",
       "      <td>2</td>\n",
       "      <td>3</td>\n",
       "      <td>2</td>\n",
       "      <td>4</td>\n",
       "      <td>5</td>\n",
       "      <td>...</td>\n",
       "      <td>0</td>\n",
       "      <td>0</td>\n",
       "      <td>0</td>\n",
       "      <td>1</td>\n",
       "      <td>0</td>\n",
       "      <td>0</td>\n",
       "      <td>0</td>\n",
       "      <td>0</td>\n",
       "      <td>0</td>\n",
       "      <td>No</td>\n",
       "    </tr>\n",
       "    <tr>\n",
       "      <th>4</th>\n",
       "      <td>40</td>\n",
       "      <td>1</td>\n",
       "      <td>4</td>\n",
       "      <td>2</td>\n",
       "      <td>10</td>\n",
       "      <td>1</td>\n",
       "      <td>4</td>\n",
       "      <td>1</td>\n",
       "      <td>4</td>\n",
       "      <td>7</td>\n",
       "      <td>...</td>\n",
       "      <td>0</td>\n",
       "      <td>0</td>\n",
       "      <td>0</td>\n",
       "      <td>1</td>\n",
       "      <td>0</td>\n",
       "      <td>0</td>\n",
       "      <td>0</td>\n",
       "      <td>0</td>\n",
       "      <td>0</td>\n",
       "      <td>No</td>\n",
       "    </tr>\n",
       "  </tbody>\n",
       "</table>\n",
       "<p>5 rows × 86 columns</p>\n",
       "</div>"
      ],
      "text/plain": [
       "   MOSTYPE  MAANTHUI  MGEMOMV  MGEMLEEF  MOSHOOFD  MGODRK  MGODPR  MGODOV  \\\n",
       "0       33         1        3         2         8       0       5       1   \n",
       "1       37         1        2         2         8       1       4       1   \n",
       "2       37         1        2         2         8       0       4       2   \n",
       "3        9         1        3         3         3       2       3       2   \n",
       "4       40         1        4         2        10       1       4       1   \n",
       "\n",
       "   MGODGE  MRELGE  ...  APERSONG  AGEZONG  AWAOREG  ABRAND  AZEILPL  APLEZIER  \\\n",
       "0       3       7  ...         0        0        0       1        0         0   \n",
       "1       4       6  ...         0        0        0       1        0         0   \n",
       "2       4       3  ...         0        0        0       1        0         0   \n",
       "3       4       5  ...         0        0        0       1        0         0   \n",
       "4       4       7  ...         0        0        0       1        0         0   \n",
       "\n",
       "   AFIETS  AINBOED  ABYSTAND  Purchase  \n",
       "0       0        0         0        No  \n",
       "1       0        0         0        No  \n",
       "2       0        0         0        No  \n",
       "3       0        0         0        No  \n",
       "4       0        0         0        No  \n",
       "\n",
       "[5 rows x 86 columns]"
      ]
     },
     "execution_count": 77,
     "metadata": {},
     "output_type": "execute_result"
    }
   ],
   "source": [
    "df=pd.read_csv(r\"C:\\Users\\Student\\Desktop\\EA 6360\\Assignment 3\\Caravan.csv\")\n",
    "df.head()"
   ]
  },
  {
   "cell_type": "code",
   "execution_count": 78,
   "id": "31ac1a15",
   "metadata": {},
   "outputs": [
    {
     "data": {
      "text/plain": [
       "(5822, 86)"
      ]
     },
     "execution_count": 78,
     "metadata": {},
     "output_type": "execute_result"
    }
   ],
   "source": [
    "df.shape"
   ]
  },
  {
   "cell_type": "code",
   "execution_count": 79,
   "id": "507d5bdc",
   "metadata": {},
   "outputs": [
    {
     "data": {
      "text/plain": [
       "No     5474\n",
       "Yes     348\n",
       "Name: Purchase, dtype: int64"
      ]
     },
     "execution_count": 79,
     "metadata": {},
     "output_type": "execute_result"
    }
   ],
   "source": [
    "df.Purchase.value_counts()"
   ]
  },
  {
   "cell_type": "code",
   "execution_count": 80,
   "id": "0ff12823",
   "metadata": {},
   "outputs": [
    {
     "data": {
      "text/html": [
       "<div>\n",
       "<style scoped>\n",
       "    .dataframe tbody tr th:only-of-type {\n",
       "        vertical-align: middle;\n",
       "    }\n",
       "\n",
       "    .dataframe tbody tr th {\n",
       "        vertical-align: top;\n",
       "    }\n",
       "\n",
       "    .dataframe thead th {\n",
       "        text-align: right;\n",
       "    }\n",
       "</style>\n",
       "<table border=\"1\" class=\"dataframe\">\n",
       "  <thead>\n",
       "    <tr style=\"text-align: right;\">\n",
       "      <th></th>\n",
       "      <th>MOSTYPE</th>\n",
       "      <th>MAANTHUI</th>\n",
       "      <th>MGEMOMV</th>\n",
       "      <th>MGEMLEEF</th>\n",
       "      <th>MOSHOOFD</th>\n",
       "      <th>MGODRK</th>\n",
       "      <th>MGODPR</th>\n",
       "      <th>MGODOV</th>\n",
       "      <th>MGODGE</th>\n",
       "      <th>MRELGE</th>\n",
       "      <th>...</th>\n",
       "      <th>ALEVEN</th>\n",
       "      <th>APERSONG</th>\n",
       "      <th>AGEZONG</th>\n",
       "      <th>AWAOREG</th>\n",
       "      <th>ABRAND</th>\n",
       "      <th>AZEILPL</th>\n",
       "      <th>APLEZIER</th>\n",
       "      <th>AFIETS</th>\n",
       "      <th>AINBOED</th>\n",
       "      <th>ABYSTAND</th>\n",
       "    </tr>\n",
       "  </thead>\n",
       "  <tbody>\n",
       "    <tr>\n",
       "      <th>MOSTYPE</th>\n",
       "      <td>1.000000</td>\n",
       "      <td>-0.038721</td>\n",
       "      <td>-0.021997</td>\n",
       "      <td>0.009454</td>\n",
       "      <td>0.992672</td>\n",
       "      <td>-0.193613</td>\n",
       "      <td>0.090399</td>\n",
       "      <td>-0.025642</td>\n",
       "      <td>-0.019505</td>\n",
       "      <td>-0.065596</td>\n",
       "      <td>...</td>\n",
       "      <td>-0.028829</td>\n",
       "      <td>0.021707</td>\n",
       "      <td>-0.012060</td>\n",
       "      <td>-0.002909</td>\n",
       "      <td>-0.011512</td>\n",
       "      <td>0.007801</td>\n",
       "      <td>-0.018162</td>\n",
       "      <td>-0.015774</td>\n",
       "      <td>-0.021087</td>\n",
       "      <td>-0.053718</td>\n",
       "    </tr>\n",
       "    <tr>\n",
       "      <th>MAANTHUI</th>\n",
       "      <td>-0.038721</td>\n",
       "      <td>1.000000</td>\n",
       "      <td>0.010102</td>\n",
       "      <td>0.056975</td>\n",
       "      <td>-0.045817</td>\n",
       "      <td>-0.006136</td>\n",
       "      <td>-0.024360</td>\n",
       "      <td>0.012056</td>\n",
       "      <td>0.020540</td>\n",
       "      <td>0.023025</td>\n",
       "      <td>...</td>\n",
       "      <td>0.020926</td>\n",
       "      <td>0.003321</td>\n",
       "      <td>0.009444</td>\n",
       "      <td>-0.016333</td>\n",
       "      <td>0.000655</td>\n",
       "      <td>-0.006189</td>\n",
       "      <td>0.000666</td>\n",
       "      <td>-0.020993</td>\n",
       "      <td>0.018304</td>\n",
       "      <td>-0.004166</td>\n",
       "    </tr>\n",
       "    <tr>\n",
       "      <th>MGEMOMV</th>\n",
       "      <td>-0.021997</td>\n",
       "      <td>0.010102</td>\n",
       "      <td>1.000000</td>\n",
       "      <td>-0.328257</td>\n",
       "      <td>0.016115</td>\n",
       "      <td>0.013105</td>\n",
       "      <td>0.049356</td>\n",
       "      <td>-0.108650</td>\n",
       "      <td>-0.005527</td>\n",
       "      <td>0.534798</td>\n",
       "      <td>...</td>\n",
       "      <td>0.017428</td>\n",
       "      <td>-0.000128</td>\n",
       "      <td>0.016760</td>\n",
       "      <td>0.018749</td>\n",
       "      <td>-0.009269</td>\n",
       "      <td>0.009234</td>\n",
       "      <td>0.000644</td>\n",
       "      <td>0.030330</td>\n",
       "      <td>0.025907</td>\n",
       "      <td>0.028384</td>\n",
       "    </tr>\n",
       "    <tr>\n",
       "      <th>MGEMLEEF</th>\n",
       "      <td>0.009454</td>\n",
       "      <td>0.056975</td>\n",
       "      <td>-0.328257</td>\n",
       "      <td>1.000000</td>\n",
       "      <td>0.003872</td>\n",
       "      <td>-0.037519</td>\n",
       "      <td>0.093654</td>\n",
       "      <td>0.057737</td>\n",
       "      <td>-0.119966</td>\n",
       "      <td>-0.040384</td>\n",
       "      <td>...</td>\n",
       "      <td>-0.025187</td>\n",
       "      <td>0.021070</td>\n",
       "      <td>-0.001747</td>\n",
       "      <td>0.000644</td>\n",
       "      <td>0.024417</td>\n",
       "      <td>0.000244</td>\n",
       "      <td>-0.001791</td>\n",
       "      <td>0.020612</td>\n",
       "      <td>-0.020042</td>\n",
       "      <td>-0.014540</td>\n",
       "    </tr>\n",
       "    <tr>\n",
       "      <th>MOSHOOFD</th>\n",
       "      <td>0.992672</td>\n",
       "      <td>-0.045817</td>\n",
       "      <td>0.016115</td>\n",
       "      <td>0.003872</td>\n",
       "      <td>1.000000</td>\n",
       "      <td>-0.199186</td>\n",
       "      <td>0.098493</td>\n",
       "      <td>-0.034566</td>\n",
       "      <td>-0.021466</td>\n",
       "      <td>-0.026619</td>\n",
       "      <td>...</td>\n",
       "      <td>-0.027240</td>\n",
       "      <td>0.023976</td>\n",
       "      <td>-0.010004</td>\n",
       "      <td>-0.002243</td>\n",
       "      <td>-0.012372</td>\n",
       "      <td>0.007099</td>\n",
       "      <td>-0.020683</td>\n",
       "      <td>-0.017990</td>\n",
       "      <td>-0.020997</td>\n",
       "      <td>-0.051723</td>\n",
       "    </tr>\n",
       "    <tr>\n",
       "      <th>...</th>\n",
       "      <td>...</td>\n",
       "      <td>...</td>\n",
       "      <td>...</td>\n",
       "      <td>...</td>\n",
       "      <td>...</td>\n",
       "      <td>...</td>\n",
       "      <td>...</td>\n",
       "      <td>...</td>\n",
       "      <td>...</td>\n",
       "      <td>...</td>\n",
       "      <td>...</td>\n",
       "      <td>...</td>\n",
       "      <td>...</td>\n",
       "      <td>...</td>\n",
       "      <td>...</td>\n",
       "      <td>...</td>\n",
       "      <td>...</td>\n",
       "      <td>...</td>\n",
       "      <td>...</td>\n",
       "      <td>...</td>\n",
       "      <td>...</td>\n",
       "    </tr>\n",
       "    <tr>\n",
       "      <th>AZEILPL</th>\n",
       "      <td>0.007801</td>\n",
       "      <td>-0.006189</td>\n",
       "      <td>0.009234</td>\n",
       "      <td>0.000244</td>\n",
       "      <td>0.007099</td>\n",
       "      <td>-0.000675</td>\n",
       "      <td>0.013760</td>\n",
       "      <td>-0.023877</td>\n",
       "      <td>-0.008412</td>\n",
       "      <td>0.009711</td>\n",
       "      <td>...</td>\n",
       "      <td>-0.004607</td>\n",
       "      <td>-0.001661</td>\n",
       "      <td>-0.001840</td>\n",
       "      <td>-0.001361</td>\n",
       "      <td>0.003902</td>\n",
       "      <td>1.000000</td>\n",
       "      <td>0.091052</td>\n",
       "      <td>-0.003420</td>\n",
       "      <td>0.081689</td>\n",
       "      <td>-0.002698</td>\n",
       "    </tr>\n",
       "    <tr>\n",
       "      <th>APLEZIER</th>\n",
       "      <td>-0.018162</td>\n",
       "      <td>0.000666</td>\n",
       "      <td>0.000644</td>\n",
       "      <td>-0.001791</td>\n",
       "      <td>-0.020683</td>\n",
       "      <td>0.011795</td>\n",
       "      <td>0.018468</td>\n",
       "      <td>0.009417</td>\n",
       "      <td>-0.026407</td>\n",
       "      <td>-0.001566</td>\n",
       "      <td>...</td>\n",
       "      <td>-0.003797</td>\n",
       "      <td>0.023526</td>\n",
       "      <td>-0.005970</td>\n",
       "      <td>-0.004413</td>\n",
       "      <td>0.000177</td>\n",
       "      <td>0.091052</td>\n",
       "      <td>1.000000</td>\n",
       "      <td>-0.011093</td>\n",
       "      <td>0.040094</td>\n",
       "      <td>0.026325</td>\n",
       "    </tr>\n",
       "    <tr>\n",
       "      <th>AFIETS</th>\n",
       "      <td>-0.015774</td>\n",
       "      <td>-0.020993</td>\n",
       "      <td>0.030330</td>\n",
       "      <td>0.020612</td>\n",
       "      <td>-0.017990</td>\n",
       "      <td>-0.001503</td>\n",
       "      <td>0.001906</td>\n",
       "      <td>0.025661</td>\n",
       "      <td>-0.011122</td>\n",
       "      <td>0.020921</td>\n",
       "      <td>...</td>\n",
       "      <td>0.003942</td>\n",
       "      <td>-0.011020</td>\n",
       "      <td>0.038345</td>\n",
       "      <td>-0.009025</td>\n",
       "      <td>-0.031095</td>\n",
       "      <td>-0.003420</td>\n",
       "      <td>-0.011093</td>\n",
       "      <td>1.000000</td>\n",
       "      <td>0.004845</td>\n",
       "      <td>0.009246</td>\n",
       "    </tr>\n",
       "    <tr>\n",
       "      <th>AINBOED</th>\n",
       "      <td>-0.021087</td>\n",
       "      <td>0.018304</td>\n",
       "      <td>0.025907</td>\n",
       "      <td>-0.020042</td>\n",
       "      <td>-0.020997</td>\n",
       "      <td>-0.011431</td>\n",
       "      <td>0.002392</td>\n",
       "      <td>-0.009734</td>\n",
       "      <td>0.007261</td>\n",
       "      <td>-0.003420</td>\n",
       "      <td>...</td>\n",
       "      <td>0.032572</td>\n",
       "      <td>-0.006391</td>\n",
       "      <td>0.016501</td>\n",
       "      <td>-0.005234</td>\n",
       "      <td>0.026274</td>\n",
       "      <td>0.081689</td>\n",
       "      <td>0.040094</td>\n",
       "      <td>0.004845</td>\n",
       "      <td>1.000000</td>\n",
       "      <td>0.021273</td>\n",
       "    </tr>\n",
       "    <tr>\n",
       "      <th>ABYSTAND</th>\n",
       "      <td>-0.053718</td>\n",
       "      <td>-0.004166</td>\n",
       "      <td>0.028384</td>\n",
       "      <td>-0.014540</td>\n",
       "      <td>-0.051723</td>\n",
       "      <td>-0.004009</td>\n",
       "      <td>0.016658</td>\n",
       "      <td>0.010127</td>\n",
       "      <td>-0.027291</td>\n",
       "      <td>0.036569</td>\n",
       "      <td>...</td>\n",
       "      <td>0.017600</td>\n",
       "      <td>-0.008693</td>\n",
       "      <td>0.114810</td>\n",
       "      <td>-0.007119</td>\n",
       "      <td>0.034854</td>\n",
       "      <td>-0.002698</td>\n",
       "      <td>0.026325</td>\n",
       "      <td>0.009246</td>\n",
       "      <td>0.021273</td>\n",
       "      <td>1.000000</td>\n",
       "    </tr>\n",
       "  </tbody>\n",
       "</table>\n",
       "<p>85 rows × 85 columns</p>\n",
       "</div>"
      ],
      "text/plain": [
       "           MOSTYPE  MAANTHUI   MGEMOMV  MGEMLEEF  MOSHOOFD    MGODRK  \\\n",
       "MOSTYPE   1.000000 -0.038721 -0.021997  0.009454  0.992672 -0.193613   \n",
       "MAANTHUI -0.038721  1.000000  0.010102  0.056975 -0.045817 -0.006136   \n",
       "MGEMOMV  -0.021997  0.010102  1.000000 -0.328257  0.016115  0.013105   \n",
       "MGEMLEEF  0.009454  0.056975 -0.328257  1.000000  0.003872 -0.037519   \n",
       "MOSHOOFD  0.992672 -0.045817  0.016115  0.003872  1.000000 -0.199186   \n",
       "...            ...       ...       ...       ...       ...       ...   \n",
       "AZEILPL   0.007801 -0.006189  0.009234  0.000244  0.007099 -0.000675   \n",
       "APLEZIER -0.018162  0.000666  0.000644 -0.001791 -0.020683  0.011795   \n",
       "AFIETS   -0.015774 -0.020993  0.030330  0.020612 -0.017990 -0.001503   \n",
       "AINBOED  -0.021087  0.018304  0.025907 -0.020042 -0.020997 -0.011431   \n",
       "ABYSTAND -0.053718 -0.004166  0.028384 -0.014540 -0.051723 -0.004009   \n",
       "\n",
       "            MGODPR    MGODOV    MGODGE    MRELGE  ...    ALEVEN  APERSONG  \\\n",
       "MOSTYPE   0.090399 -0.025642 -0.019505 -0.065596  ... -0.028829  0.021707   \n",
       "MAANTHUI -0.024360  0.012056  0.020540  0.023025  ...  0.020926  0.003321   \n",
       "MGEMOMV   0.049356 -0.108650 -0.005527  0.534798  ...  0.017428 -0.000128   \n",
       "MGEMLEEF  0.093654  0.057737 -0.119966 -0.040384  ... -0.025187  0.021070   \n",
       "MOSHOOFD  0.098493 -0.034566 -0.021466 -0.026619  ... -0.027240  0.023976   \n",
       "...            ...       ...       ...       ...  ...       ...       ...   \n",
       "AZEILPL   0.013760 -0.023877 -0.008412  0.009711  ... -0.004607 -0.001661   \n",
       "APLEZIER  0.018468  0.009417 -0.026407 -0.001566  ... -0.003797  0.023526   \n",
       "AFIETS    0.001906  0.025661 -0.011122  0.020921  ...  0.003942 -0.011020   \n",
       "AINBOED   0.002392 -0.009734  0.007261 -0.003420  ...  0.032572 -0.006391   \n",
       "ABYSTAND  0.016658  0.010127 -0.027291  0.036569  ...  0.017600 -0.008693   \n",
       "\n",
       "           AGEZONG   AWAOREG    ABRAND   AZEILPL  APLEZIER    AFIETS  \\\n",
       "MOSTYPE  -0.012060 -0.002909 -0.011512  0.007801 -0.018162 -0.015774   \n",
       "MAANTHUI  0.009444 -0.016333  0.000655 -0.006189  0.000666 -0.020993   \n",
       "MGEMOMV   0.016760  0.018749 -0.009269  0.009234  0.000644  0.030330   \n",
       "MGEMLEEF -0.001747  0.000644  0.024417  0.000244 -0.001791  0.020612   \n",
       "MOSHOOFD -0.010004 -0.002243 -0.012372  0.007099 -0.020683 -0.017990   \n",
       "...            ...       ...       ...       ...       ...       ...   \n",
       "AZEILPL  -0.001840 -0.001361  0.003902  1.000000  0.091052 -0.003420   \n",
       "APLEZIER -0.005970 -0.004413  0.000177  0.091052  1.000000 -0.011093   \n",
       "AFIETS    0.038345 -0.009025 -0.031095 -0.003420 -0.011093  1.000000   \n",
       "AINBOED   0.016501 -0.005234  0.026274  0.081689  0.040094  0.004845   \n",
       "ABYSTAND  0.114810 -0.007119  0.034854 -0.002698  0.026325  0.009246   \n",
       "\n",
       "           AINBOED  ABYSTAND  \n",
       "MOSTYPE  -0.021087 -0.053718  \n",
       "MAANTHUI  0.018304 -0.004166  \n",
       "MGEMOMV   0.025907  0.028384  \n",
       "MGEMLEEF -0.020042 -0.014540  \n",
       "MOSHOOFD -0.020997 -0.051723  \n",
       "...            ...       ...  \n",
       "AZEILPL   0.081689 -0.002698  \n",
       "APLEZIER  0.040094  0.026325  \n",
       "AFIETS    0.004845  0.009246  \n",
       "AINBOED   1.000000  0.021273  \n",
       "ABYSTAND  0.021273  1.000000  \n",
       "\n",
       "[85 rows x 85 columns]"
      ]
     },
     "execution_count": 80,
     "metadata": {},
     "output_type": "execute_result"
    }
   ],
   "source": [
    "df.corr()"
   ]
  },
  {
   "cell_type": "markdown",
   "id": "3c345596",
   "metadata": {},
   "source": [
    "# (a) Randomly split the data into training set (70%) and testing set (30%). Please provide the dimensionality of two datasets"
   ]
  },
  {
   "cell_type": "code",
   "execution_count": 82,
   "id": "96082e32",
   "metadata": {},
   "outputs": [],
   "source": [
    "X = df[df.columns[:-1]]\n",
    "y = df.Purchase.map(lambda x:0 if x=='No' else 1)"
   ]
  },
  {
   "cell_type": "code",
   "execution_count": 83,
   "id": "323b7059",
   "metadata": {},
   "outputs": [
    {
     "data": {
      "text/plain": [
       "(5822, 85)"
      ]
     },
     "execution_count": 83,
     "metadata": {},
     "output_type": "execute_result"
    }
   ],
   "source": [
    "X.shape"
   ]
  },
  {
   "cell_type": "code",
   "execution_count": 84,
   "id": "fddb71ca",
   "metadata": {},
   "outputs": [
    {
     "data": {
      "text/plain": [
       "(5822,)"
      ]
     },
     "execution_count": 84,
     "metadata": {},
     "output_type": "execute_result"
    }
   ],
   "source": [
    "y.shape"
   ]
  },
  {
   "cell_type": "code",
   "execution_count": 85,
   "id": "d443c33d",
   "metadata": {},
   "outputs": [],
   "source": [
    "X_train, X_test, y_train, y_test = train_test_split( X, y, test_size=0.30, random_state=42)"
   ]
  },
  {
   "cell_type": "code",
   "execution_count": 86,
   "id": "4f10f638",
   "metadata": {},
   "outputs": [
    {
     "name": "stdout",
     "output_type": "stream",
     "text": [
      "Shape of the X training dataset: (4075, 85)\n",
      "Shape of the Y training dataset: (4075,)\n",
      "Shape of the X testing dataset: (1747, 85)\n",
      "Shape of the Y testing dataset: (1747,)\n"
     ]
    }
   ],
   "source": [
    "print(\"Shape of the X training dataset:\",X_train.shape)\n",
    "print(\"Shape of the Y training dataset:\",y_train.shape)\n",
    "print(\"Shape of the X testing dataset:\",X_test.shape)\n",
    "print(\"Shape of the Y testing dataset:\",y_test.shape)"
   ]
  },
  {
   "cell_type": "markdown",
   "id": "adbd5cbe",
   "metadata": {},
   "source": [
    "# (b) Fit a tree model to the training set with Purchase as the response and the other variables as predictors. Use the summary() function to produce summary statistics about the tree, and describe the results obtained. What is the training error rate? How many terminal nodes does the tree have?"
   ]
  },
  {
   "cell_type": "code",
   "execution_count": 98,
   "id": "7570311f",
   "metadata": {},
   "outputs": [
    {
     "name": "stdout",
     "output_type": "stream",
     "text": [
      "training error: 4.900000000000006\n",
      "terminal nodes does the tree 32\n",
      "----------------------------------------------------------------------------------------------------\n"
     ]
    }
   ],
   "source": [
    "clf = DecisionTreeClassifier(max_depth=6).fit(X_train, y_train)\n",
    "\n",
    "print('training error: {}'.format(100 - (100*np.around(clf.score(X_train, y_train), 3))))\n",
    "print('terminal nodes does the tree',clf.tree_.n_leaves)\n",
    "print('-'*100)"
   ]
  },
  {
   "cell_type": "code",
   "execution_count": 99,
   "id": "1415e9f2",
   "metadata": {},
   "outputs": [
    {
     "name": "stdout",
     "output_type": "stream",
     "text": [
      "       No  Yes\n",
      "No   1613  115\n",
      "Yes    15    4\n"
     ]
    }
   ],
   "source": [
    "y_pred = clf.predict(X_test)\n",
    "\n",
    "class_mat = pd.DataFrame(confusion_matrix(y_test, y_pred).T, index = ['No', 'Yes'], columns = ['No', 'Yes'])\n",
    "print(class_mat)"
   ]
  },
  {
   "cell_type": "code",
   "execution_count": 100,
   "id": "6fc9ba91",
   "metadata": {},
   "outputs": [
    {
     "name": "stdout",
     "output_type": "stream",
     "text": [
      "              precision    recall  f1-score   support\n",
      "\n",
      "           0       0.93      0.99      0.96      1628\n",
      "           1       0.21      0.03      0.06       119\n",
      "\n",
      "    accuracy                           0.93      1747\n",
      "   macro avg       0.57      0.51      0.51      1747\n",
      "weighted avg       0.88      0.93      0.90      1747\n",
      "\n"
     ]
    }
   ],
   "source": [
    "print(classification_report(y_test, y_pred))"
   ]
  },
  {
   "cell_type": "markdown",
   "id": "4eccf5fe",
   "metadata": {},
   "source": [
    "# (c) Predict the response on the test data, and produce a confusion matrix comparing the test labels to the predicted test labels. What is the test error rate?"
   ]
  },
  {
   "cell_type": "code",
   "execution_count": 101,
   "id": "9bc66c3d",
   "metadata": {},
   "outputs": [
    {
     "data": {
      "image/png": "[encoded data removed]",
      "text/plain": [
       "<Figure size 432x288 with 2 Axes>"
      ]
     },
     "metadata": {
      "needs_background": "light"
     },
     "output_type": "display_data"
    },
    {
     "name": "stdout",
     "output_type": "stream",
     "text": [
      "test error rate of decision tree model: 7.441327990841444\n"
     ]
    }
   ],
   "source": [
    "pred = clf.predict(X_test)\n",
    "\n",
    "cm = confusion_matrix(y_pred=pred,y_true=y_test)\n",
    "sns.heatmap(cm,annot=True,cmap='Blues', fmt='g')\n",
    "plt.show()\n",
    "\n",
    "print('test error rate of decision tree model:',100 - (100 * accuracy_score(y_test,pred)))"
   ]
  },
  {
   "cell_type": "markdown",
   "id": "4ec3cccc",
   "metadata": {},
   "source": [
    "# (d) Apply the cv.tree() function to the training set in order to determine the optimal tree size. Produce a plot with tree size on the x-axis and cross-validated classification error rate on the y-axis"
   ]
  },
  {
   "cell_type": "code",
   "execution_count": 104,
   "id": "8833f756",
   "metadata": {},
   "outputs": [
    {
     "name": "stdout",
     "output_type": "stream",
     "text": [
      "Optimal Tree Size:\n",
      "Leaves\n",
      "2.0    0.943804\n",
      "3.0    0.943804\n",
      "4.0    0.943804\n",
      "Name: Test, dtype: float64\n"
     ]
    },
    {
     "data": {
      "image/png": "[encoded data removed]",
      "text/plain": [
       "<Figure size 720x360 with 1 Axes>"
      ]
     },
     "metadata": {
      "needs_background": "light"
     },
     "output_type": "display_data"
    }
   ],
   "source": [
    "folds = 10\n",
    "\n",
    "outputs = []\n",
    "for node in np.arange(2, 50):\n",
    "    clf = tree.DecisionTreeClassifier(max_leaf_nodes=node)\n",
    "    score = cross_val_score(clf, X_train, y_train, cv=folds)\n",
    "    outputs.append([node, np.mean(score)])\n",
    "\n",
    "\n",
    "\n",
    "df_plot = pd.DataFrame(np.asarray(outputs), columns=['Leaves', 'Test']).set_index('Leaves')\n",
    "\n",
    "print('Optimal Tree Size:')\n",
    "print(df_plot['Test'][df_plot['Test'] == df_plot['Test'].max()])\n",
    "\n",
    "plt.figure(figsize=(10,5))\n",
    "df_plot = pd.DataFrame(np.asarray(outputs), columns=['Leaves', 'Test']).set_index('Leaves')\n",
    "sns.lineplot(data=df_plot);\n",
    "plt.ylabel('accuracy')\n",
    "plt.show();"
   ]
  },
  {
   "cell_type": "markdown",
   "id": "0d3048bb",
   "metadata": {},
   "source": [
    "# (e) Produce a pruned tree corresponding to the optimal tree size obtained using crossvalidation. Compare the training error rates between the pruned and unpruned trees.Which is higher? Compare the test error rates between the pruned and unpruned trees.Which is higher?"
   ]
  },
  {
   "cell_type": "code",
   "execution_count": 105,
   "id": "d32c86fd",
   "metadata": {},
   "outputs": [
    {
     "data": {
      "image/png": "[encoded data removed]",
      "text/plain": [
       "<Figure size 720x432 with 1 Axes>"
      ]
     },
     "metadata": {
      "needs_background": "light"
     },
     "output_type": "display_data"
    },
    {
     "data": {
      "text/html": [
       "<div>\n",
       "<style scoped>\n",
       "    .dataframe tbody tr th:only-of-type {\n",
       "        vertical-align: middle;\n",
       "    }\n",
       "\n",
       "    .dataframe tbody tr th {\n",
       "        vertical-align: top;\n",
       "    }\n",
       "\n",
       "    .dataframe thead th {\n",
       "        text-align: right;\n",
       "    }\n",
       "</style>\n",
       "<table border=\"1\" class=\"dataframe\">\n",
       "  <thead>\n",
       "    <tr style=\"text-align: right;\">\n",
       "      <th></th>\n",
       "      <th>test</th>\n",
       "      <th>error rate</th>\n",
       "    </tr>\n",
       "  </thead>\n",
       "  <tbody>\n",
       "    <tr>\n",
       "      <th>0</th>\n",
       "      <td>unpruned_train</td>\n",
       "      <td>0.035583</td>\n",
       "    </tr>\n",
       "    <tr>\n",
       "      <th>1</th>\n",
       "      <td>pruned_train</td>\n",
       "      <td>0.055215</td>\n",
       "    </tr>\n",
       "    <tr>\n",
       "      <th>2</th>\n",
       "      <td>unpruned_test</td>\n",
       "      <td>0.089296</td>\n",
       "    </tr>\n",
       "    <tr>\n",
       "      <th>3</th>\n",
       "      <td>pruned_test</td>\n",
       "      <td>0.066400</td>\n",
       "    </tr>\n",
       "  </tbody>\n",
       "</table>\n",
       "</div>"
      ],
      "text/plain": [
       "             test  error rate\n",
       "0  unpruned_train    0.035583\n",
       "1    pruned_train    0.055215\n",
       "2   unpruned_test    0.089296\n",
       "3     pruned_test    0.066400"
      ]
     },
     "metadata": {},
     "output_type": "display_data"
    }
   ],
   "source": [
    "clf_unpruned = tree.DecisionTreeClassifier(max_depth=10).fit(X_train, y_train)\n",
    "clf_pruned   = tree.DecisionTreeClassifier(max_leaf_nodes=7).fit(X_train, y_train)\n",
    "\n",
    "scores = [['unpruned_train', 1 - clf_unpruned.score(X_train, y_train)],\n",
    "          ['pruned_train', 1 - clf_pruned.score(X_train, y_train)],\n",
    "          ['unpruned_test', 1 - clf_unpruned.score(X_test, y_test)],\n",
    "          ['pruned_test', 1 - clf_pruned.score(X_test, y_test)]]\n",
    "\n",
    "plot_df = pd.DataFrame(scores, columns=['test', 'error rate'])\n",
    "\n",
    "plt.figure(figsize=(10, 6))\n",
    "sns.barplot(x='test', y='error rate', data=plot_df)\n",
    "plt.show();\n",
    "\n",
    "display(plot_df)"
   ]
  },
  {
   "cell_type": "markdown",
   "id": "9d2db474",
   "metadata": {},
   "source": [
    "# \n",
    "* pruned tree has higher training error rate \n",
    "* unpruned tree has higher testing error rate "
   ]
  },
  {
   "cell_type": "markdown",
   "id": "2e1293bc",
   "metadata": {},
   "source": [
    "# (f) Fit a boosting model and a random forest to the training set. The boosting model should have 1,000 trees, and a shrinkage value of 0.01. The random forest should also have 1,000 trees and the number of variables randomly sampled at each split is 10. Compare the training error rates these models, pruned and unpruned trees. Which is higher? How about the test error rates"
   ]
  },
  {
   "cell_type": "code",
   "execution_count": 95,
   "id": "f4f6ea4b",
   "metadata": {},
   "outputs": [],
   "source": [
    "from sklearn.ensemble import GradientBoostingClassifier"
   ]
  },
  {
   "cell_type": "code",
   "execution_count": 93,
   "id": "46a5d245",
   "metadata": {},
   "outputs": [
    {
     "data": {
      "image/png": "[encoded data removed]",
      "text/plain": [
       "<Figure size 720x432 with 1 Axes>"
      ]
     },
     "metadata": {
      "needs_background": "light"
     },
     "output_type": "display_data"
    },
    {
     "data": {
      "text/html": [
       "<div>\n",
       "<style scoped>\n",
       "    .dataframe tbody tr th:only-of-type {\n",
       "        vertical-align: middle;\n",
       "    }\n",
       "\n",
       "    .dataframe tbody tr th {\n",
       "        vertical-align: top;\n",
       "    }\n",
       "\n",
       "    .dataframe thead th {\n",
       "        text-align: right;\n",
       "    }\n",
       "</style>\n",
       "<table border=\"1\" class=\"dataframe\">\n",
       "  <thead>\n",
       "    <tr style=\"text-align: right;\">\n",
       "      <th></th>\n",
       "      <th>test</th>\n",
       "      <th>error rate</th>\n",
       "    </tr>\n",
       "  </thead>\n",
       "  <tbody>\n",
       "    <tr>\n",
       "      <th>0</th>\n",
       "      <td>unpruned_train</td>\n",
       "      <td>0.056196</td>\n",
       "    </tr>\n",
       "    <tr>\n",
       "      <th>1</th>\n",
       "      <td>pruned_train</td>\n",
       "      <td>0.056196</td>\n",
       "    </tr>\n",
       "    <tr>\n",
       "      <th>2</th>\n",
       "      <td>unpruned_test</td>\n",
       "      <td>0.068117</td>\n",
       "    </tr>\n",
       "    <tr>\n",
       "      <th>3</th>\n",
       "      <td>pruned_test</td>\n",
       "      <td>0.068117</td>\n",
       "    </tr>\n",
       "  </tbody>\n",
       "</table>\n",
       "</div>"
      ],
      "text/plain": [
       "             test  error rate\n",
       "0  unpruned_train    0.056196\n",
       "1    pruned_train    0.056196\n",
       "2   unpruned_test    0.068117\n",
       "3     pruned_test    0.068117"
      ]
     },
     "metadata": {},
     "output_type": "display_data"
    }
   ],
   "source": [
    "clf_unpruned = GradientBoostingClassifier(n_estimators=100, learning_rate=0.01,max_depth=1, random_state=0).fit(X_train, y_train)\n",
    "clf_pruned   = GradientBoostingClassifier(n_estimators=1000, learning_rate=0.01,max_depth=1, random_state=0).fit(X_train, y_train)\n",
    "\n",
    "scores = [['unpruned_train', 1 - clf_unpruned.score(X_train, y_train)],\n",
    "          ['pruned_train', 1 - clf_pruned.score(X_train, y_train)],\n",
    "          ['unpruned_test', 1 - clf_unpruned.score(X_test, y_test)],\n",
    "          ['pruned_test', 1 - clf_pruned.score(X_test, y_test)]]\n",
    "\n",
    "plot_df = pd.DataFrame(scores, columns=['test', 'error rate'])\n",
    "\n",
    "plt.figure(figsize=(10, 6))\n",
    "sns.barplot(x='test', y='error rate', data=plot_df)\n",
    "plt.show();\n",
    "\n",
    "display(plot_df)"
   ]
  },
  {
   "cell_type": "markdown",
   "id": "ed8b50f1",
   "metadata": {},
   "source": [
    "# \n",
    "Random Forest"
   ]
  },
  {
   "cell_type": "code",
   "execution_count": 94,
   "id": "c3c88fcd",
   "metadata": {},
   "outputs": [
    {
     "data": {
      "image/png": "[encoded data removed]",
      "text/plain": [
       "<Figure size 720x432 with 1 Axes>"
      ]
     },
     "metadata": {
      "needs_background": "light"
     },
     "output_type": "display_data"
    },
    {
     "data": {
      "text/html": [
       "<div>\n",
       "<style scoped>\n",
       "    .dataframe tbody tr th:only-of-type {\n",
       "        vertical-align: middle;\n",
       "    }\n",
       "\n",
       "    .dataframe tbody tr th {\n",
       "        vertical-align: top;\n",
       "    }\n",
       "\n",
       "    .dataframe thead th {\n",
       "        text-align: right;\n",
       "    }\n",
       "</style>\n",
       "<table border=\"1\" class=\"dataframe\">\n",
       "  <thead>\n",
       "    <tr style=\"text-align: right;\">\n",
       "      <th></th>\n",
       "      <th>test</th>\n",
       "      <th>error rate</th>\n",
       "    </tr>\n",
       "  </thead>\n",
       "  <tbody>\n",
       "    <tr>\n",
       "      <th>0</th>\n",
       "      <td>unpruned_train</td>\n",
       "      <td>0.056196</td>\n",
       "    </tr>\n",
       "    <tr>\n",
       "      <th>1</th>\n",
       "      <td>pruned_train</td>\n",
       "      <td>0.006871</td>\n",
       "    </tr>\n",
       "    <tr>\n",
       "      <th>2</th>\n",
       "      <td>unpruned_test</td>\n",
       "      <td>0.068117</td>\n",
       "    </tr>\n",
       "    <tr>\n",
       "      <th>3</th>\n",
       "      <td>pruned_test</td>\n",
       "      <td>0.075558</td>\n",
       "    </tr>\n",
       "  </tbody>\n",
       "</table>\n",
       "</div>"
      ],
      "text/plain": [
       "             test  error rate\n",
       "0  unpruned_train    0.056196\n",
       "1    pruned_train    0.006871\n",
       "2   unpruned_test    0.068117\n",
       "3     pruned_test    0.075558"
      ]
     },
     "metadata": {},
     "output_type": "display_data"
    }
   ],
   "source": [
    "from sklearn.ensemble import RandomForestClassifier\n",
    "clf_unpruned = RandomForestClassifier(max_depth=2, random_state=0).fit(X_train, y_train)\n",
    "clf_pruned   = RandomForestClassifier(n_estimators=1000,max_features=10).fit(X_train, y_train)\n",
    "\n",
    "scores = [['unpruned_train', 1 - clf_unpruned.score(X_train, y_train)],\n",
    "          ['pruned_train', 1 - clf_pruned.score(X_train, y_train)],\n",
    "          ['unpruned_test', 1 - clf_unpruned.score(X_test, y_test)],\n",
    "          ['pruned_test', 1 - clf_pruned.score(X_test, y_test)]]\n",
    "\n",
    "plot_df = pd.DataFrame(scores, columns=['test', 'error rate'])\n",
    "\n",
    "plt.figure(figsize=(10, 6))\n",
    "sns.barplot(x='test', y='error rate', data=plot_df)\n",
    "plt.show();\n",
    "\n",
    "display(plot_df)"
   ]
  },
  {
   "cell_type": "markdown",
   "id": "f79b4bf5",
   "metadata": {},
   "source": [
    "# (g) Which predictors appear to be the most important in the boosting model (Top 10)?Which predictors are important in the random forest model?"
   ]
  },
  {
   "cell_type": "code",
   "execution_count": 106,
   "id": "556a7832",
   "metadata": {},
   "outputs": [],
   "source": [
    "random_forest   = RandomForestClassifier(n_estimators=1000,max_features=10).fit(X_train, y_train)\n",
    "boosting  = GradientBoostingClassifier(n_estimators=1000, learning_rate=0.01,max_depth=5, random_state=0).fit(X_train, y_train)"
   ]
  },
  {
   "cell_type": "code",
   "execution_count": 108,
   "id": "9ae0dffa",
   "metadata": {},
   "outputs": [
    {
     "data": {
      "text/plain": [
       "[('PVRAAUT', 1.30841235841633e-05),\n",
       " ('AVRAAUT', 1.6278627207286497e-05),\n",
       " ('PWERKT', 4.1332826281567226e-05),\n",
       " ('AWERKT', 6.310607644935706e-05),\n",
       " ('PPERSONG', 7.621831123538923e-05),\n",
       " ('APERSONG', 0.00010560259791001849),\n",
       " ('AWALAND', 0.00066283572413391),\n",
       " ('AINBOED', 0.0007924154383492322),\n",
       " ('AZEILPL', 0.0008121349427190285),\n",
       " ('PINBOED', 0.0008219228741505712)]"
      ]
     },
     "execution_count": 108,
     "metadata": {},
     "output_type": "execute_result"
    }
   ],
   "source": [
    "sorted(list(zip(X_train.columns,random_forest.feature_importances_)),key=lambda x:x[:][1])[:10][:]"
   ]
  },
  {
   "cell_type": "code",
   "execution_count": 109,
   "id": "f7bf14d8",
   "metadata": {},
   "outputs": [
    {
     "data": {
      "text/plain": [
       "[('PPERSONG', 0.0),\n",
       " ('AVRAAUT', 1.649082528172024e-10),\n",
       " ('PVRAAUT', 2.0858552447292307e-10),\n",
       " ('APERSONG', 1.864746159194304e-09),\n",
       " ('PWERKT', 6.661475971714006e-07),\n",
       " ('AWERKT', 1.5231118799551642e-06),\n",
       " ('AWALAND', 8.14540558759918e-05),\n",
       " ('PWALAND', 0.00010580254943155863),\n",
       " ('ABESAUT', 0.0002900828723509075),\n",
       " ('ATRACTOR', 0.0003055561092434625)]"
      ]
     },
     "execution_count": 109,
     "metadata": {},
     "output_type": "execute_result"
    }
   ],
   "source": [
    "sorted(list(zip(X_train.columns,boosting.feature_importances_)),key=lambda x:x[:][1])[:10][:]"
   ]
  }
 ],
 "metadata": {
  "kernelspec": {
   "display_name": "Python 3 (ipykernel)",
   "language": "python",
   "name": "python3"
  },
  "language_info": {
   "codemirror_mode": {
    "name": "ipython",
    "version": 3
   },
   "file_extension": ".py",
   "mimetype": "text/x-python",
   "name": "python",
   "nbconvert_exporter": "python",
   "pygments_lexer": "ipython3",
   "version": "3.9.12"
  }
 },
 "nbformat": 4,
 "nbformat_minor": 5
}
