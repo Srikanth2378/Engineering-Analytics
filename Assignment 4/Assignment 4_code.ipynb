{
 "cells": [
  {
   "cell_type": "markdown",
   "id": "214fec15",
   "metadata": {},
   "source": [
    "## Problem 1"
   ]
  },
  {
   "cell_type": "code",
   "execution_count": 1,
   "id": "39035241",
   "metadata": {},
   "outputs": [],
   "source": [
    "import pandas as pd\n",
    "import numpy as np\n",
    "import numpy.linalg as LA\n",
    "import matplotlib.pyplot as plt\n",
    "import seaborn as sns"
   ]
  },
  {
   "cell_type": "markdown",
   "id": "fce4b5a4",
   "metadata": {},
   "source": [
    "## \n",
    "**(a) Plot the observations.**"
   ]
  },
  {
   "cell_type": "code",
   "execution_count": 570,
   "id": "9bb3edc0",
   "metadata": {},
   "outputs": [
    {
     "data": {
      "image/png": "[encoded data removed]",
      "text/plain": [
       "<Figure size 648x360 with 1 Axes>"
      ]
     },
     "metadata": {
      "needs_background": "light"
     },
     "output_type": "display_data"
    }
   ],
   "source": [
    "X1 = [1,1,0,5,6,4]\n",
    "X2 = [4,3,4,1,2,0]\n",
    "data = pd.DataFrame({'X1':[1,1,0,5,6,4], 'X2':[4,3,4,1,2,0]})\n",
    "                                               \n",
    "fig = plt.figure(figsize=(9,5))\n",
    "plt.scatter(X1, X2, c='red')\n",
    "\n",
    "plt.grid()\n",
    "plt.show()"
   ]
  },
  {
   "cell_type": "markdown",
   "id": "ca328868",
   "metadata": {},
   "source": [
    "## \n",
    "**b)Randomly assign a cluster label to each observation. You can use the sample() command in R to do this. Report the cluster labels for each observation.**"
   ]
  },
  {
   "cell_type": "code",
   "execution_count": 3,
   "id": "5f5a9d4a",
   "metadata": {},
   "outputs": [],
   "source": [
    "np.random.seed(1)\n",
    "lb=np.random.choice(2,6, replace=True)\n",
    "color= ['blue' if l == 0 else 'brown' for l in lb]"
   ]
  },
  {
   "cell_type": "code",
   "execution_count": 4,
   "id": "8960ec21",
   "metadata": {},
   "outputs": [
    {
     "data": {
      "image/png": "[encoded data removed]",
      "text/plain": [
       "<Figure size 648x360 with 1 Axes>"
      ]
     },
     "metadata": {
      "needs_background": "light"
     },
     "output_type": "display_data"
    }
   ],
   "source": [
    "fig = plt.figure(figsize=(9,5))\n",
    "plt.scatter(X1, X2, c=color)\n",
    "plt.grid()\n",
    "plt.show()"
   ]
  },
  {
   "cell_type": "markdown",
   "id": "d45d3f03",
   "metadata": {},
   "source": [
    "**c)Compute the centroid for each cluster.**"
   ]
  },
  {
   "cell_type": "code",
   "execution_count": 5,
   "id": "145fbd2c",
   "metadata": {},
   "outputs": [],
   "source": [
    "data['lb'] = lb"
   ]
  },
  {
   "cell_type": "code",
   "execution_count": 6,
   "id": "84c28359",
   "metadata": {},
   "outputs": [
    {
     "data": {
      "text/html": [
       "<div>\n",
       "<style scoped>\n",
       "    .dataframe tbody tr th:only-of-type {\n",
       "        vertical-align: middle;\n",
       "    }\n",
       "\n",
       "    .dataframe tbody tr th {\n",
       "        vertical-align: top;\n",
       "    }\n",
       "\n",
       "    .dataframe thead th {\n",
       "        text-align: right;\n",
       "    }\n",
       "</style>\n",
       "<table border=\"1\" class=\"dataframe\">\n",
       "  <thead>\n",
       "    <tr style=\"text-align: right;\">\n",
       "      <th></th>\n",
       "      <th>X1</th>\n",
       "      <th>X2</th>\n",
       "      <th>lb</th>\n",
       "    </tr>\n",
       "  </thead>\n",
       "  <tbody>\n",
       "    <tr>\n",
       "      <th>0</th>\n",
       "      <td>1</td>\n",
       "      <td>4</td>\n",
       "      <td>1</td>\n",
       "    </tr>\n",
       "    <tr>\n",
       "      <th>1</th>\n",
       "      <td>1</td>\n",
       "      <td>3</td>\n",
       "      <td>1</td>\n",
       "    </tr>\n",
       "    <tr>\n",
       "      <th>2</th>\n",
       "      <td>0</td>\n",
       "      <td>4</td>\n",
       "      <td>0</td>\n",
       "    </tr>\n",
       "    <tr>\n",
       "      <th>3</th>\n",
       "      <td>5</td>\n",
       "      <td>1</td>\n",
       "      <td>0</td>\n",
       "    </tr>\n",
       "    <tr>\n",
       "      <th>4</th>\n",
       "      <td>6</td>\n",
       "      <td>2</td>\n",
       "      <td>1</td>\n",
       "    </tr>\n",
       "    <tr>\n",
       "      <th>5</th>\n",
       "      <td>4</td>\n",
       "      <td>0</td>\n",
       "      <td>1</td>\n",
       "    </tr>\n",
       "  </tbody>\n",
       "</table>\n",
       "</div>"
      ],
      "text/plain": [
       "   X1  X2  lb\n",
       "0   1   4   1\n",
       "1   1   3   1\n",
       "2   0   4   0\n",
       "3   5   1   0\n",
       "4   6   2   1\n",
       "5   4   0   1"
      ]
     },
     "execution_count": 6,
     "metadata": {},
     "output_type": "execute_result"
    }
   ],
   "source": [
    "data['lb'] = lb\n",
    "data"
   ]
  },
  {
   "cell_type": "code",
   "execution_count": 7,
   "id": "20ef2d52",
   "metadata": {},
   "outputs": [
    {
     "name": "stdout",
     "output_type": "stream",
     "text": [
      "Centroid of Cluster 1 is : [3.   2.25]\n",
      "Centroid of Cluster 0 is : [2.5 2.5]\n"
     ]
    }
   ],
   "source": [
    "# centroid for label = 1\n",
    "centroid_1 = np.array(data[data['lb'] == 1].mean()[:2])\n",
    "\n",
    "# centroid for label = 0\n",
    "centroid_0 = np.array(data[data['lb'] == 0].mean()[:2])\n",
    "\n",
    "print(\"Centroid of Cluster 1 is :\",centroid_1)\n",
    "print(\"Centroid of Cluster 0 is :\",centroid_0)"
   ]
  },
  {
   "cell_type": "code",
   "execution_count": 8,
   "id": "b8949e2d",
   "metadata": {},
   "outputs": [
    {
     "data": {
      "image/png": "[encoded data removed]",
      "text/plain": [
       "<Figure size 648x360 with 1 Axes>"
      ]
     },
     "metadata": {
      "needs_background": "light"
     },
     "output_type": "display_data"
    }
   ],
   "source": [
    "color= ['blue' if l == 0 else 'brown' for l in lb]\n",
    "fig = plt.figure(figsize=(9,5))\n",
    "plt.scatter(X1, X2, c=color)\n",
    "plt.scatter(centroid_0[0], centroid_0[1], color='blue', marker='x')\n",
    "plt.scatter(centroid_1[0], centroid_1[1], color='brown', marker='x');\n",
    "plt.grid()\n",
    "plt.show()"
   ]
  },
  {
   "cell_type": "markdown",
   "id": "dbf7b589",
   "metadata": {},
   "source": [
    "**d)Assign each observation to the centroid to which it is closest, in terms of Euclidean distance. Report the cluster labels for each observation.**"
   ]
  },
  {
   "cell_type": "code",
   "execution_count": 10,
   "id": "1f622794",
   "metadata": {},
   "outputs": [],
   "source": [
    "# Construct a function which will return assignment to the centroid to which it is closest.\n",
    "def calc_dist(x1,c0, c1):\n",
    "    if type(x1) != np.ndarray:\n",
    "        x1 = np.array(x1)\n",
    "    \n",
    "    d0 = LA.norm(x1-c0)\n",
    "    d1 = LA.norm(x1-c1)\n",
    "    \n",
    "    if d0 >= d1:\n",
    "        return 1\n",
    "    else:\n",
    "        return 0"
   ]
  },
  {
   "cell_type": "code",
   "execution_count": 11,
   "id": "937a8101",
   "metadata": {},
   "outputs": [
    {
     "data": {
      "text/html": [
       "<div>\n",
       "<style scoped>\n",
       "    .dataframe tbody tr th:only-of-type {\n",
       "        vertical-align: middle;\n",
       "    }\n",
       "\n",
       "    .dataframe tbody tr th {\n",
       "        vertical-align: top;\n",
       "    }\n",
       "\n",
       "    .dataframe thead th {\n",
       "        text-align: right;\n",
       "    }\n",
       "</style>\n",
       "<table border=\"1\" class=\"dataframe\">\n",
       "  <thead>\n",
       "    <tr style=\"text-align: right;\">\n",
       "      <th></th>\n",
       "      <th>X1</th>\n",
       "      <th>X2</th>\n",
       "      <th>lb</th>\n",
       "    </tr>\n",
       "  </thead>\n",
       "  <tbody>\n",
       "    <tr>\n",
       "      <th>0</th>\n",
       "      <td>1</td>\n",
       "      <td>4</td>\n",
       "      <td>0</td>\n",
       "    </tr>\n",
       "    <tr>\n",
       "      <th>1</th>\n",
       "      <td>1</td>\n",
       "      <td>3</td>\n",
       "      <td>0</td>\n",
       "    </tr>\n",
       "    <tr>\n",
       "      <th>2</th>\n",
       "      <td>0</td>\n",
       "      <td>4</td>\n",
       "      <td>0</td>\n",
       "    </tr>\n",
       "    <tr>\n",
       "      <th>3</th>\n",
       "      <td>5</td>\n",
       "      <td>1</td>\n",
       "      <td>1</td>\n",
       "    </tr>\n",
       "    <tr>\n",
       "      <th>4</th>\n",
       "      <td>6</td>\n",
       "      <td>2</td>\n",
       "      <td>1</td>\n",
       "    </tr>\n",
       "    <tr>\n",
       "      <th>5</th>\n",
       "      <td>4</td>\n",
       "      <td>0</td>\n",
       "      <td>1</td>\n",
       "    </tr>\n",
       "  </tbody>\n",
       "</table>\n",
       "</div>"
      ],
      "text/plain": [
       "   X1  X2  lb\n",
       "0   1   4   0\n",
       "1   1   3   0\n",
       "2   0   4   0\n",
       "3   5   1   1\n",
       "4   6   2   1\n",
       "5   4   0   1"
      ]
     },
     "execution_count": 11,
     "metadata": {},
     "output_type": "execute_result"
    }
   ],
   "source": [
    "data['lb'] = data.apply(lambda x: calc_dist([x[0],x[1]], centroid_0, centroid_1), axis=1)\n",
    "data"
   ]
  },
  {
   "cell_type": "code",
   "execution_count": 12,
   "id": "62c1e7b8",
   "metadata": {},
   "outputs": [
    {
     "name": "stdout",
     "output_type": "stream",
     "text": [
      "Centriod for Cluster 1 is:  [5. 1.]\n",
      "Centriod for Cluster 0 is:  [0.66666667 3.66666667]\n"
     ]
    }
   ],
   "source": [
    "# centroid for label = 1\n",
    "centroid1 = np.array(data[data['lb'] == 1].mean()[:2])\n",
    "\n",
    "# centroid for label = 0\n",
    "centroid0 = np.array(data[data['lb'] == 0].mean()[:2])\n",
    "\n",
    "print(\"Centriod for Cluster 1 is: \", centroid1)\n",
    "print(\"Centriod for Cluster 0 is: \", centroid0)"
   ]
  },
  {
   "cell_type": "code",
   "execution_count": 13,
   "id": "fb89a3d3",
   "metadata": {},
   "outputs": [
    {
     "data": {
      "image/png": "[encoded data removed]",
      "text/plain": [
       "<Figure size 648x360 with 1 Axes>"
      ]
     },
     "metadata": {
      "needs_background": "light"
     },
     "output_type": "display_data"
    }
   ],
   "source": [
    "color= ['blue' if l == 0 else 'brown' for l in lb]\n",
    "fig = plt.figure(figsize=(9,5))\n",
    "plt.scatter(X1, X2, c=color)\n",
    "plt.scatter(centroid0[0], centroid0[1], color='blue', marker='x')\n",
    "plt.scatter(centroid1[0], centroid1[1], color='brown', marker='x');\n",
    "plt.grid()\n",
    "plt.show()"
   ]
  },
  {
   "cell_type": "markdown",
   "id": "fc48eff3",
   "metadata": {},
   "source": [
    "**(e) Repeat (c) and (d) until the answers obtained stop changing.**"
   ]
  },
  {
   "cell_type": "code",
   "execution_count": 17,
   "id": "c07e8e69",
   "metadata": {},
   "outputs": [
    {
     "name": "stdout",
     "output_type": "stream",
     "text": [
      "Centriod for Cluster 0 is:  [2.5 2.5]\n",
      "Centriod for Cluster 1 is:  [3.   2.25]\n"
     ]
    }
   ],
   "source": [
    "data['lb'] = lb\n",
    "\n",
    "# centroid for label = 1\n",
    "centroid_1 = np.array(data[data['lb'] == 1].mean()[:2])\n",
    "\n",
    "# centroid for label = 0\n",
    "centroid_0 = np.array(data[data['lb'] == 0].mean()[:2])\n",
    "\n",
    "print(\"Centriod for Cluster 0 is: \", centroid_0)\n",
    "print(\"Centriod for Cluster 1 is: \", centroid_1)"
   ]
  },
  {
   "cell_type": "code",
   "execution_count": 18,
   "id": "115b43cb",
   "metadata": {},
   "outputs": [],
   "source": [
    "# Construct a function which will return assignment to the centroid to which it is closest.\n",
    "def calc_dist(x1,c0, c1):\n",
    "    if type(x1) != np.ndarray:\n",
    "        x1 = np.array(x1)\n",
    "    \n",
    "    d0 = LA.norm(x1-c0)\n",
    "    d1 = LA.norm(x1-c1)\n",
    "    \n",
    "    if d0 >= d1:\n",
    "        return 1\n",
    "    else:\n",
    "        return 0"
   ]
  },
  {
   "cell_type": "code",
   "execution_count": 20,
   "id": "1c665fbd",
   "metadata": {},
   "outputs": [
    {
     "data": {
      "text/html": [
       "<div>\n",
       "<style scoped>\n",
       "    .dataframe tbody tr th:only-of-type {\n",
       "        vertical-align: middle;\n",
       "    }\n",
       "\n",
       "    .dataframe tbody tr th {\n",
       "        vertical-align: top;\n",
       "    }\n",
       "\n",
       "    .dataframe thead th {\n",
       "        text-align: right;\n",
       "    }\n",
       "</style>\n",
       "<table border=\"1\" class=\"dataframe\">\n",
       "  <thead>\n",
       "    <tr style=\"text-align: right;\">\n",
       "      <th></th>\n",
       "      <th>X1</th>\n",
       "      <th>X2</th>\n",
       "      <th>lb</th>\n",
       "    </tr>\n",
       "  </thead>\n",
       "  <tbody>\n",
       "    <tr>\n",
       "      <th>0</th>\n",
       "      <td>1</td>\n",
       "      <td>4</td>\n",
       "      <td>0</td>\n",
       "    </tr>\n",
       "    <tr>\n",
       "      <th>1</th>\n",
       "      <td>1</td>\n",
       "      <td>3</td>\n",
       "      <td>0</td>\n",
       "    </tr>\n",
       "    <tr>\n",
       "      <th>2</th>\n",
       "      <td>0</td>\n",
       "      <td>4</td>\n",
       "      <td>0</td>\n",
       "    </tr>\n",
       "    <tr>\n",
       "      <th>3</th>\n",
       "      <td>5</td>\n",
       "      <td>1</td>\n",
       "      <td>1</td>\n",
       "    </tr>\n",
       "    <tr>\n",
       "      <th>4</th>\n",
       "      <td>6</td>\n",
       "      <td>2</td>\n",
       "      <td>1</td>\n",
       "    </tr>\n",
       "    <tr>\n",
       "      <th>5</th>\n",
       "      <td>4</td>\n",
       "      <td>0</td>\n",
       "      <td>1</td>\n",
       "    </tr>\n",
       "  </tbody>\n",
       "</table>\n",
       "</div>"
      ],
      "text/plain": [
       "   X1  X2  lb\n",
       "0   1   4   0\n",
       "1   1   3   0\n",
       "2   0   4   0\n",
       "3   5   1   1\n",
       "4   6   2   1\n",
       "5   4   0   1"
      ]
     },
     "execution_count": 20,
     "metadata": {},
     "output_type": "execute_result"
    }
   ],
   "source": [
    "data['lb'] = data.apply(lambda x: calc_dist([x[0],x[1]], centroid_0, centroid_1), axis=1)\n",
    "data"
   ]
  },
  {
   "cell_type": "code",
   "execution_count": 22,
   "id": "5afcf50f",
   "metadata": {},
   "outputs": [
    {
     "name": "stdout",
     "output_type": "stream",
     "text": [
      "Centriod for Cluster 0 is:  [0.66666667 3.66666667]\n",
      "Centriod for Cluster 1 is:  [5. 1.]\n"
     ]
    }
   ],
   "source": [
    "# centroid for label = 1\n",
    "centroid_1 = np.array(data[data['lb'] == 1].mean()[:2])\n",
    "\n",
    "# centroid for label = 0\n",
    "centroid_0 = np.array(data[data['lb'] == 0].mean()[:2])\n",
    "\n",
    "print(\"Centriod for Cluster 0 is: \", centroid_0)\n",
    "print(\"Centriod for Cluster 1 is: \", centroid_1)"
   ]
  },
  {
   "cell_type": "code",
   "execution_count": 24,
   "id": "f053f882",
   "metadata": {},
   "outputs": [
    {
     "data": {
      "image/png": "[encoded data removed]",
      "text/plain": [
       "<Figure size 648x360 with 1 Axes>"
      ]
     },
     "metadata": {
      "needs_background": "light"
     },
     "output_type": "display_data"
    }
   ],
   "source": [
    "color= ['blue' if l == 0 else 'brown' for l in lb]\n",
    "fig = plt.figure(figsize=(9,5))\n",
    "plt.scatter(X1, X2, c=color)\n",
    "plt.scatter(centroid_0[0], centroid_0[1], color='blue', marker='x')\n",
    "plt.scatter(centroid_1[0], centroid_1[1], color='brown', marker='x');\n",
    "plt.grid()\n",
    "plt.show()"
   ]
  },
  {
   "cell_type": "markdown",
   "id": "ae1bc5d6",
   "metadata": {},
   "source": [
    "**f) In your plot from (a), color the observations according to the cluster labels obtained**"
   ]
  },
  {
   "cell_type": "code",
   "execution_count": 89,
   "id": "0d577a77",
   "metadata": {},
   "outputs": [
    {
     "data": {
      "image/png": "[encoded data removed]",
      "text/plain": [
       "<Figure size 648x360 with 1 Axes>"
      ]
     },
     "metadata": {
      "needs_background": "light"
     },
     "output_type": "display_data"
    }
   ],
   "source": [
    "np.random.seed(1)\n",
    "color= ['blue' if l == 0 else 'brown' for l in lb]\n",
    "fig = plt.figure(figsize=(9,5))\n",
    "plt.scatter(X1, X2, c=color)\n",
    "plt.grid()\n",
    "plt.show()"
   ]
  },
  {
   "cell_type": "markdown",
   "id": "e932eb05",
   "metadata": {},
   "source": [
    "# Problem 2     \n",
    "**In this problem, you will generate simulated data, and then perform PCA and K-means clustering on the data.**"
   ]
  },
  {
   "cell_type": "markdown",
   "id": "0492d3a8",
   "metadata": {},
   "source": [
    "**a)Generate a simulated data set with 20 observations in each of three classes (i.e. 60 observations total), and 50 variables.**"
   ]
  },
  {
   "cell_type": "code",
   "execution_count": 26,
   "id": "0d774630",
   "metadata": {},
   "outputs": [],
   "source": [
    "from sklearn.datasets import make_blobs\n",
    "from sklearn.decomposition import PCA\n",
    "from sklearn.cluster import KMeans\n",
    "from sklearn.preprocessing import StandardScaler\n",
    "from sklearn.preprocessing import scale"
   ]
  },
  {
   "cell_type": "code",
   "execution_count": 342,
   "id": "75db0e3e",
   "metadata": {},
   "outputs": [
    {
     "name": "stdout",
     "output_type": "stream",
     "text": [
      "X  [[-15.85650582  -0.08916658  -6.50467155 ...  -8.37696032   0.41947521\n",
      "   -5.5802326 ]\n",
      " [  3.14226009  -0.60985587   2.47346668 ...   4.90069306   4.15682068\n",
      "  -14.64526536]\n",
      " [ -9.6308612   -6.47216194  -0.29458706 ...  -4.65389626  13.52762994\n",
      "   -7.00955937]\n",
      " ...\n",
      " [  7.94296762  13.53699453   0.58248345 ...   6.78688527  -2.86089881\n",
      "   -2.40085464]\n",
      " [ -4.79471129  11.25264255 -16.40196975 ... -11.61986346 -10.17928371\n",
      "    0.04402414]\n",
      " [ -1.97197651 -11.64920861   7.70332904 ...  -3.65919085  13.13255469\n",
      "   -5.26201858]]\n",
      "Y  [2 1 0 1 1 0 0 1 2 1 2 0 2 2 0 2 1 2 0 1 2 1 0 0 0 2 0 1 2 1 1 2 0 0 0 2 0\n",
      " 1 1 0 1 1 0 2 1 1 2 2 2 2 0 0 1 2 2 1 2 0 0 1]\n"
     ]
    }
   ],
   "source": [
    "X, Y = make_blobs(n_samples=60, n_features=50, centers=3, cluster_std=7, random_state=3)\n",
    "print(\"X \",X)\n",
    "print(\"Y \",Y)"
   ]
  },
  {
   "cell_type": "markdown",
   "id": "d55dc1ca",
   "metadata": {},
   "source": [
    "**b)Perform PCA on the 60 observations and plot the first two principal component score vectors. Use a different color to indicate the observations in each of the three classes. If the three classes appear separated in this plot, then continue on to part (c). If not, then return to part (a) and modify the simulation so that there is greater separation between the three classes. Do not continue to part (c) until the three classes show at least some separation in the first two principal component score vectors.**"
   ]
  },
  {
   "cell_type": "code",
   "execution_count": 343,
   "id": "49364b70",
   "metadata": {},
   "outputs": [
    {
     "data": {
      "text/plain": [
       "(60, 2)"
      ]
     },
     "execution_count": 343,
     "metadata": {},
     "output_type": "execute_result"
    }
   ],
   "source": [
    "pca = PCA(n_components=2, random_state=1)\n",
    "X_pca = pca.fit_transform(X)\n",
    "X_pca.shape"
   ]
  },
  {
   "cell_type": "code",
   "execution_count": 344,
   "id": "483a747d",
   "metadata": {},
   "outputs": [
    {
     "data": {
      "text/plain": [
       "Text(0, 0.5, '2nd principal component')"
      ]
     },
     "execution_count": 344,
     "metadata": {},
     "output_type": "execute_result"
    },
    {
     "data": {
      "image/png": "[encoded data removed]",
      "text/plain": [
       "<Figure size 432x288 with 1 Axes>"
      ]
     },
     "metadata": {
      "needs_background": "light"
     },
     "output_type": "display_data"
    }
   ],
   "source": [
    "plt.figure()\n",
    "colors = ['blue', 'red', 'green']\n",
    "\n",
    "for color, i in zip(colors, [0,1,2]):\n",
    "    plt.scatter(X_pca[Y==i, 0], X_pca[Y==i, 1], color=color)\n",
    "plt.title('Principal component score vectors')\n",
    "plt.xlabel('1st principal component')\n",
    "plt.ylabel('2nd principal component')"
   ]
  },
  {
   "cell_type": "markdown",
   "id": "b7452e0a",
   "metadata": {},
   "source": [
    "**C)Perform K-means clustering of the observations with K = 3.How well do the clusters that you obtained in K-means clustering compare to the true class labels?**"
   ]
  },
  {
   "cell_type": "code",
   "execution_count": 265,
   "id": "4c31c523",
   "metadata": {},
   "outputs": [
    {
     "data": {
      "text/plain": [
       "array([2, 1, 0, 1, 1, 0, 0, 1, 2, 1, 2, 0, 2, 2, 0, 2, 1, 2, 0, 1, 2, 1,\n",
       "       0, 0, 0, 2, 0, 1, 2, 1, 1, 2, 0, 0, 0, 2, 0, 1, 1, 0, 1, 1, 0, 2,\n",
       "       1, 1, 2, 2, 2, 2, 0, 0, 1, 2, 2, 1, 2, 0, 0, 1])"
      ]
     },
     "execution_count": 265,
     "metadata": {},
     "output_type": "execute_result"
    }
   ],
   "source": [
    "# Get clustering labels using K-means\n",
    "KM_3 = KMeans(n_clusters=3)\n",
    "KM_3.fit(X)\n",
    "KM_3.labels_"
   ]
  },
  {
   "cell_type": "code",
   "execution_count": 266,
   "id": "ad1dc216",
   "metadata": {},
   "outputs": [
    {
     "data": {
      "text/html": [
       "<div>\n",
       "<style scoped>\n",
       "    .dataframe tbody tr th:only-of-type {\n",
       "        vertical-align: middle;\n",
       "    }\n",
       "\n",
       "    .dataframe tbody tr th {\n",
       "        vertical-align: top;\n",
       "    }\n",
       "\n",
       "    .dataframe thead th {\n",
       "        text-align: right;\n",
       "    }\n",
       "</style>\n",
       "<table border=\"1\" class=\"dataframe\">\n",
       "  <thead>\n",
       "    <tr style=\"text-align: right;\">\n",
       "      <th>Predicted</th>\n",
       "      <th>0</th>\n",
       "      <th>1</th>\n",
       "      <th>2</th>\n",
       "    </tr>\n",
       "    <tr>\n",
       "      <th>True</th>\n",
       "      <th></th>\n",
       "      <th></th>\n",
       "      <th></th>\n",
       "    </tr>\n",
       "  </thead>\n",
       "  <tbody>\n",
       "    <tr>\n",
       "      <th>0</th>\n",
       "      <td>20</td>\n",
       "      <td>0</td>\n",
       "      <td>0</td>\n",
       "    </tr>\n",
       "    <tr>\n",
       "      <th>1</th>\n",
       "      <td>0</td>\n",
       "      <td>20</td>\n",
       "      <td>0</td>\n",
       "    </tr>\n",
       "    <tr>\n",
       "      <th>2</th>\n",
       "      <td>0</td>\n",
       "      <td>0</td>\n",
       "      <td>20</td>\n",
       "    </tr>\n",
       "  </tbody>\n",
       "</table>\n",
       "</div>"
      ],
      "text/plain": [
       "Predicted   0   1   2\n",
       "True                 \n",
       "0          20   0   0\n",
       "1           0  20   0\n",
       "2           0   0  20"
      ]
     },
     "execution_count": 266,
     "metadata": {},
     "output_type": "execute_result"
    }
   ],
   "source": [
    "pd.crosstab(Y, KM_3.labels_, rownames=['True'], colnames=['Predicted'])"
   ]
  },
  {
   "cell_type": "markdown",
   "id": "6de58f93",
   "metadata": {},
   "source": [
    "**d)Perform K-means clustering with K = 2. Describe your results**"
   ]
  },
  {
   "cell_type": "code",
   "execution_count": 273,
   "id": "5185f42e",
   "metadata": {},
   "outputs": [
    {
     "data": {
      "text/plain": [
       "array([0, 1, 0, 1, 1, 0, 0, 1, 0, 1, 0, 0, 0, 0, 0, 0, 1, 0, 0, 1, 0, 1,\n",
       "       0, 0, 0, 0, 0, 1, 0, 1, 1, 0, 0, 0, 0, 0, 0, 1, 1, 0, 1, 1, 0, 0,\n",
       "       1, 1, 0, 0, 0, 0, 0, 0, 1, 0, 0, 1, 0, 0, 0, 1])"
      ]
     },
     "execution_count": 273,
     "metadata": {},
     "output_type": "execute_result"
    }
   ],
   "source": [
    "# Get clustering labels using K-means\n",
    "KM_2 = KMeans(n_clusters=2)\n",
    "KM_2.fit(X)\n",
    "KM_2.labels_"
   ]
  },
  {
   "cell_type": "code",
   "execution_count": 274,
   "id": "b98af8dd",
   "metadata": {},
   "outputs": [
    {
     "data": {
      "text/html": [
       "<div>\n",
       "<style scoped>\n",
       "    .dataframe tbody tr th:only-of-type {\n",
       "        vertical-align: middle;\n",
       "    }\n",
       "\n",
       "    .dataframe tbody tr th {\n",
       "        vertical-align: top;\n",
       "    }\n",
       "\n",
       "    .dataframe thead th {\n",
       "        text-align: right;\n",
       "    }\n",
       "</style>\n",
       "<table border=\"1\" class=\"dataframe\">\n",
       "  <thead>\n",
       "    <tr style=\"text-align: right;\">\n",
       "      <th>Predicted</th>\n",
       "      <th>0</th>\n",
       "      <th>1</th>\n",
       "    </tr>\n",
       "    <tr>\n",
       "      <th>True</th>\n",
       "      <th></th>\n",
       "      <th></th>\n",
       "    </tr>\n",
       "  </thead>\n",
       "  <tbody>\n",
       "    <tr>\n",
       "      <th>0</th>\n",
       "      <td>20</td>\n",
       "      <td>0</td>\n",
       "    </tr>\n",
       "    <tr>\n",
       "      <th>1</th>\n",
       "      <td>0</td>\n",
       "      <td>20</td>\n",
       "    </tr>\n",
       "    <tr>\n",
       "      <th>2</th>\n",
       "      <td>20</td>\n",
       "      <td>0</td>\n",
       "    </tr>\n",
       "  </tbody>\n",
       "</table>\n",
       "</div>"
      ],
      "text/plain": [
       "Predicted   0   1\n",
       "True             \n",
       "0          20   0\n",
       "1           0  20\n",
       "2          20   0"
      ]
     },
     "execution_count": 274,
     "metadata": {},
     "output_type": "execute_result"
    }
   ],
   "source": [
    "pd.crosstab(Y, KM_2.labels_, rownames=['True'], colnames=['Predicted'])"
   ]
  },
  {
   "cell_type": "code",
   "execution_count": 174,
   "id": "54066956",
   "metadata": {},
   "outputs": [
    {
     "data": {
      "text/plain": [
       "0    40\n",
       "1    20\n",
       "dtype: int64"
      ]
     },
     "execution_count": 174,
     "metadata": {},
     "output_type": "execute_result"
    }
   ],
   "source": [
    "pd.Series(KM_2.labels_).value_counts()"
   ]
  },
  {
   "cell_type": "markdown",
   "id": "57b6e415",
   "metadata": {},
   "source": [
    "**e)Now perform K-means clustering with K = 4, and describe your results**"
   ]
  },
  {
   "cell_type": "code",
   "execution_count": 279,
   "id": "be067c42",
   "metadata": {},
   "outputs": [
    {
     "data": {
      "text/plain": [
       "array([2, 1, 3, 1, 1, 3, 3, 1, 2, 1, 2, 3, 2, 2, 0, 2, 1, 2, 0, 1, 2, 1,\n",
       "       3, 3, 3, 2, 3, 1, 2, 1, 1, 2, 3, 0, 3, 2, 3, 1, 1, 3, 1, 1, 3, 2,\n",
       "       1, 1, 2, 2, 2, 2, 3, 3, 1, 2, 2, 1, 2, 0, 0, 1])"
      ]
     },
     "execution_count": 279,
     "metadata": {},
     "output_type": "execute_result"
    }
   ],
   "source": [
    "KM_4 = KMeans(n_clusters=4)\n",
    "KM_4.fit(X)\n",
    "KM_4.labels_"
   ]
  },
  {
   "cell_type": "code",
   "execution_count": 280,
   "id": "7e57c72d",
   "metadata": {},
   "outputs": [
    {
     "data": {
      "text/html": [
       "<div>\n",
       "<style scoped>\n",
       "    .dataframe tbody tr th:only-of-type {\n",
       "        vertical-align: middle;\n",
       "    }\n",
       "\n",
       "    .dataframe tbody tr th {\n",
       "        vertical-align: top;\n",
       "    }\n",
       "\n",
       "    .dataframe thead th {\n",
       "        text-align: right;\n",
       "    }\n",
       "</style>\n",
       "<table border=\"1\" class=\"dataframe\">\n",
       "  <thead>\n",
       "    <tr style=\"text-align: right;\">\n",
       "      <th>Predicted</th>\n",
       "      <th>0</th>\n",
       "      <th>1</th>\n",
       "      <th>2</th>\n",
       "      <th>3</th>\n",
       "    </tr>\n",
       "    <tr>\n",
       "      <th>True</th>\n",
       "      <th></th>\n",
       "      <th></th>\n",
       "      <th></th>\n",
       "      <th></th>\n",
       "    </tr>\n",
       "  </thead>\n",
       "  <tbody>\n",
       "    <tr>\n",
       "      <th>0</th>\n",
       "      <td>5</td>\n",
       "      <td>0</td>\n",
       "      <td>0</td>\n",
       "      <td>15</td>\n",
       "    </tr>\n",
       "    <tr>\n",
       "      <th>1</th>\n",
       "      <td>0</td>\n",
       "      <td>20</td>\n",
       "      <td>0</td>\n",
       "      <td>0</td>\n",
       "    </tr>\n",
       "    <tr>\n",
       "      <th>2</th>\n",
       "      <td>0</td>\n",
       "      <td>0</td>\n",
       "      <td>20</td>\n",
       "      <td>0</td>\n",
       "    </tr>\n",
       "  </tbody>\n",
       "</table>\n",
       "</div>"
      ],
      "text/plain": [
       "Predicted  0   1   2   3\n",
       "True                    \n",
       "0          5   0   0  15\n",
       "1          0  20   0   0\n",
       "2          0   0  20   0"
      ]
     },
     "execution_count": 280,
     "metadata": {},
     "output_type": "execute_result"
    }
   ],
   "source": [
    "pd.crosstab(Y, KM_4.labels_, rownames=['True'], colnames=['Predicted'])"
   ]
  },
  {
   "cell_type": "code",
   "execution_count": 42,
   "id": "b8303d25",
   "metadata": {},
   "outputs": [
    {
     "data": {
      "text/plain": [
       "0    20\n",
       "1    20\n",
       "2    14\n",
       "3     6\n",
       "dtype: int64"
      ]
     },
     "execution_count": 42,
     "metadata": {},
     "output_type": "execute_result"
    }
   ],
   "source": [
    "pd.Series(KM_4.labels_).value_counts()"
   ]
  },
  {
   "cell_type": "markdown",
   "id": "401a2877",
   "metadata": {},
   "source": [
    "**f)Now perform K-means clustering with K = 3 on the first two principal component score vectors, rather than on the raw data.**"
   ]
  },
  {
   "cell_type": "code",
   "execution_count": 315,
   "id": "b2a160a4",
   "metadata": {},
   "outputs": [
    {
     "data": {
      "text/plain": [
       "array([0, 1, 2, 1, 1, 2, 2, 1, 0, 1, 0, 2, 0, 0, 2, 0, 1, 0, 2, 1, 0, 1,\n",
       "       2, 2, 2, 0, 2, 1, 0, 1, 1, 0, 2, 2, 2, 0, 2, 1, 1, 2, 1, 1, 2, 0,\n",
       "       1, 1, 0, 0, 0, 0, 2, 2, 1, 0, 0, 1, 0, 2, 2, 1])"
      ]
     },
     "execution_count": 315,
     "metadata": {},
     "output_type": "execute_result"
    }
   ],
   "source": [
    "KM_3_New = KMeans(n_clusters=3)\n",
    "KM_3_New.fit(X_pca)\n",
    "KM_3_New.labels_"
   ]
  },
  {
   "cell_type": "code",
   "execution_count": 316,
   "id": "09102537",
   "metadata": {},
   "outputs": [
    {
     "data": {
      "text/html": [
       "<div>\n",
       "<style scoped>\n",
       "    .dataframe tbody tr th:only-of-type {\n",
       "        vertical-align: middle;\n",
       "    }\n",
       "\n",
       "    .dataframe tbody tr th {\n",
       "        vertical-align: top;\n",
       "    }\n",
       "\n",
       "    .dataframe thead th {\n",
       "        text-align: right;\n",
       "    }\n",
       "</style>\n",
       "<table border=\"1\" class=\"dataframe\">\n",
       "  <thead>\n",
       "    <tr style=\"text-align: right;\">\n",
       "      <th>Predicted</th>\n",
       "      <th>0</th>\n",
       "      <th>1</th>\n",
       "      <th>2</th>\n",
       "    </tr>\n",
       "    <tr>\n",
       "      <th>True</th>\n",
       "      <th></th>\n",
       "      <th></th>\n",
       "      <th></th>\n",
       "    </tr>\n",
       "  </thead>\n",
       "  <tbody>\n",
       "    <tr>\n",
       "      <th>0</th>\n",
       "      <td>0</td>\n",
       "      <td>0</td>\n",
       "      <td>20</td>\n",
       "    </tr>\n",
       "    <tr>\n",
       "      <th>1</th>\n",
       "      <td>0</td>\n",
       "      <td>20</td>\n",
       "      <td>0</td>\n",
       "    </tr>\n",
       "    <tr>\n",
       "      <th>2</th>\n",
       "      <td>20</td>\n",
       "      <td>0</td>\n",
       "      <td>0</td>\n",
       "    </tr>\n",
       "  </tbody>\n",
       "</table>\n",
       "</div>"
      ],
      "text/plain": [
       "Predicted   0   1   2\n",
       "True                 \n",
       "0           0   0  20\n",
       "1           0  20   0\n",
       "2          20   0   0"
      ]
     },
     "execution_count": 316,
     "metadata": {},
     "output_type": "execute_result"
    }
   ],
   "source": [
    "pd.crosstab(Y, KM_3_New.labels_, rownames=['True'], colnames=['Predicted'])"
   ]
  },
  {
   "cell_type": "code",
   "execution_count": 317,
   "id": "d99d5f0b",
   "metadata": {},
   "outputs": [
    {
     "data": {
      "text/plain": [
       "0    20\n",
       "1    20\n",
       "2    20\n",
       "dtype: int64"
      ]
     },
     "execution_count": 317,
     "metadata": {},
     "output_type": "execute_result"
    }
   ],
   "source": [
    "pd.Series(KM_3_New.labels_).value_counts()"
   ]
  },
  {
   "cell_type": "markdown",
   "id": "9404a943",
   "metadata": {},
   "source": [
    "**g)Using the scale() function, perform K-means clustering with K = 3 on the data after scaling each variable to have standard deviation one. How do these results compare to those obtained in (b)? Explain.**"
   ]
  },
  {
   "cell_type": "code",
   "execution_count": 352,
   "id": "95dacefe",
   "metadata": {},
   "outputs": [
    {
     "name": "stdout",
     "output_type": "stream",
     "text": [
      "Shape of X after scaling : (60, 50)\n"
     ]
    }
   ],
   "source": [
    "X_scale = StandardScaler(with_mean=False)\n",
    "X_scale.fit(X)\n",
    "X_scaled = X_scale.transform(X)\n",
    "\n",
    "print(\"Shape of X after scaling :\",X_scaled.shape)"
   ]
  },
  {
   "cell_type": "code",
   "execution_count": 353,
   "id": "b8784fc9",
   "metadata": {},
   "outputs": [
    {
     "data": {
      "text/plain": [
       "array([2, 1, 0, 1, 1, 0, 0, 1, 2, 1, 2, 0, 2, 2, 0, 2, 1, 2, 0, 1, 2, 1,\n",
       "       0, 0, 0, 2, 0, 1, 2, 1, 1, 2, 0, 0, 0, 2, 0, 1, 1, 0, 1, 1, 0, 2,\n",
       "       1, 1, 2, 2, 2, 2, 0, 0, 1, 2, 2, 1, 2, 0, 0, 1])"
      ]
     },
     "execution_count": 353,
     "metadata": {},
     "output_type": "execute_result"
    }
   ],
   "source": [
    "KM_sclaed_3 = KMeans(n_clusters=3)\n",
    "KM_sclaed_3.fit(X_scaled)\n",
    "KM_sclaed_3.labels_"
   ]
  },
  {
   "cell_type": "code",
   "execution_count": 354,
   "id": "916d7b53",
   "metadata": {},
   "outputs": [
    {
     "data": {
      "text/html": [
       "<div>\n",
       "<style scoped>\n",
       "    .dataframe tbody tr th:only-of-type {\n",
       "        vertical-align: middle;\n",
       "    }\n",
       "\n",
       "    .dataframe tbody tr th {\n",
       "        vertical-align: top;\n",
       "    }\n",
       "\n",
       "    .dataframe thead th {\n",
       "        text-align: right;\n",
       "    }\n",
       "</style>\n",
       "<table border=\"1\" class=\"dataframe\">\n",
       "  <thead>\n",
       "    <tr style=\"text-align: right;\">\n",
       "      <th>Predicted</th>\n",
       "      <th>0</th>\n",
       "      <th>1</th>\n",
       "      <th>2</th>\n",
       "    </tr>\n",
       "    <tr>\n",
       "      <th>True</th>\n",
       "      <th></th>\n",
       "      <th></th>\n",
       "      <th></th>\n",
       "    </tr>\n",
       "  </thead>\n",
       "  <tbody>\n",
       "    <tr>\n",
       "      <th>0</th>\n",
       "      <td>20</td>\n",
       "      <td>0</td>\n",
       "      <td>0</td>\n",
       "    </tr>\n",
       "    <tr>\n",
       "      <th>1</th>\n",
       "      <td>0</td>\n",
       "      <td>20</td>\n",
       "      <td>0</td>\n",
       "    </tr>\n",
       "    <tr>\n",
       "      <th>2</th>\n",
       "      <td>0</td>\n",
       "      <td>0</td>\n",
       "      <td>20</td>\n",
       "    </tr>\n",
       "  </tbody>\n",
       "</table>\n",
       "</div>"
      ],
      "text/plain": [
       "Predicted   0   1   2\n",
       "True                 \n",
       "0          20   0   0\n",
       "1           0  20   0\n",
       "2           0   0  20"
      ]
     },
     "execution_count": 354,
     "metadata": {},
     "output_type": "execute_result"
    }
   ],
   "source": [
    "pd.crosstab(Y, KM_sclaed_3.labels_, rownames=['True'], colnames=['Predicted'])"
   ]
  },
  {
   "cell_type": "code",
   "execution_count": 90,
   "id": "0485f0d1",
   "metadata": {},
   "outputs": [
    {
     "data": {
      "text/plain": [
       "0    20\n",
       "1    20\n",
       "2    20\n",
       "dtype: int64"
      ]
     },
     "execution_count": 90,
     "metadata": {},
     "output_type": "execute_result"
    }
   ],
   "source": [
    "pd.Series(KM_sclaed_3.labels_).value_counts()"
   ]
  },
  {
   "cell_type": "markdown",
   "id": "8eb2dd64",
   "metadata": {},
   "source": [
    "## Problem 3      \n",
    "**Please implement the EM algorithm on Page 22 in Lecture 15 and test your algorithm on the simu.csv data attached on Blackboard. Please set K equals to 1, 2, 3…, convergence criteria 𝜀 and initialize the parameters by random initialization. Please provide the following results:**"
   ]
  },
  {
   "cell_type": "code",
   "execution_count": 562,
   "id": "17d874f9",
   "metadata": {},
   "outputs": [],
   "source": [
    "from sklearn.mixture import GaussianMixture\n",
    "from sklearn.exceptions import ConvergenceWarning\n",
    "from sklearn.metrics import silhouette_score\n",
    "#from sklearn.utils.testing import ignore_warnings"
   ]
  },
  {
   "cell_type": "code",
   "execution_count": 437,
   "id": "f782e317",
   "metadata": {},
   "outputs": [
    {
     "data": {
      "text/html": [
       "<div>\n",
       "<style scoped>\n",
       "    .dataframe tbody tr th:only-of-type {\n",
       "        vertical-align: middle;\n",
       "    }\n",
       "\n",
       "    .dataframe tbody tr th {\n",
       "        vertical-align: top;\n",
       "    }\n",
       "\n",
       "    .dataframe thead th {\n",
       "        text-align: right;\n",
       "    }\n",
       "</style>\n",
       "<table border=\"1\" class=\"dataframe\">\n",
       "  <thead>\n",
       "    <tr style=\"text-align: right;\">\n",
       "      <th></th>\n",
       "      <th>X1</th>\n",
       "      <th>X2</th>\n",
       "    </tr>\n",
       "  </thead>\n",
       "  <tbody>\n",
       "    <tr>\n",
       "      <th>0</th>\n",
       "      <td>0.826524</td>\n",
       "      <td>-0.403322</td>\n",
       "    </tr>\n",
       "    <tr>\n",
       "      <th>1</th>\n",
       "      <td>1.010251</td>\n",
       "      <td>0.094141</td>\n",
       "    </tr>\n",
       "    <tr>\n",
       "      <th>2</th>\n",
       "      <td>-0.847152</td>\n",
       "      <td>0.378825</td>\n",
       "    </tr>\n",
       "    <tr>\n",
       "      <th>3</th>\n",
       "      <td>0.746718</td>\n",
       "      <td>1.200720</td>\n",
       "    </tr>\n",
       "    <tr>\n",
       "      <th>4</th>\n",
       "      <td>0.883394</td>\n",
       "      <td>0.247857</td>\n",
       "    </tr>\n",
       "  </tbody>\n",
       "</table>\n",
       "</div>"
      ],
      "text/plain": [
       "         X1        X2\n",
       "0  0.826524 -0.403322\n",
       "1  1.010251  0.094141\n",
       "2 -0.847152  0.378825\n",
       "3  0.746718  1.200720\n",
       "4  0.883394  0.247857"
      ]
     },
     "execution_count": 437,
     "metadata": {},
     "output_type": "execute_result"
    }
   ],
   "source": [
    "simu = pd.read_csv(r'C:\\Users\\Student\\Desktop\\EA6360\\Assignment4\\simu.csv')\n",
    "simu.head()"
   ]
  },
  {
   "cell_type": "markdown",
   "id": "97b120d7",
   "metadata": {},
   "source": [
    "**a)Please report the convergence criteria you used, 𝜀 =? Produce a plot with the iterations on x axis and the value of log-likelihood function on y axis when K=2. This figure visualizes the value of objective function change in each iteration. What you observe from the figure?**"
   ]
  },
  {
   "cell_type": "code",
   "execution_count": 551,
   "id": "4e018c90",
   "metadata": {},
   "outputs": [
    {
     "name": "stderr",
     "output_type": "stream",
     "text": [
      "C:\\ProgramData\\Anaconda3\\lib\\site-packages\\sklearn\\mixture\\_base.py:265: ConvergenceWarning: Initialization 1 did not converge. Try different init parameters, or increase max_iter, tol or check for degenerate data.\n",
      "  warnings.warn('Initialization %d did not converge. '\n",
      "C:\\ProgramData\\Anaconda3\\lib\\site-packages\\sklearn\\mixture\\_base.py:265: ConvergenceWarning: Initialization 1 did not converge. Try different init parameters, or increase max_iter, tol or check for degenerate data.\n",
      "  warnings.warn('Initialization %d did not converge. '\n",
      "C:\\ProgramData\\Anaconda3\\lib\\site-packages\\sklearn\\mixture\\_base.py:265: ConvergenceWarning: Initialization 1 did not converge. Try different init parameters, or increase max_iter, tol or check for degenerate data.\n",
      "  warnings.warn('Initialization %d did not converge. '\n",
      "C:\\ProgramData\\Anaconda3\\lib\\site-packages\\sklearn\\mixture\\_base.py:265: ConvergenceWarning: Initialization 1 did not converge. Try different init parameters, or increase max_iter, tol or check for degenerate data.\n",
      "  warnings.warn('Initialization %d did not converge. '\n",
      "C:\\ProgramData\\Anaconda3\\lib\\site-packages\\sklearn\\mixture\\_base.py:265: ConvergenceWarning: Initialization 1 did not converge. Try different init parameters, or increase max_iter, tol or check for degenerate data.\n",
      "  warnings.warn('Initialization %d did not converge. '\n",
      "C:\\ProgramData\\Anaconda3\\lib\\site-packages\\sklearn\\mixture\\_base.py:265: ConvergenceWarning: Initialization 1 did not converge. Try different init parameters, or increase max_iter, tol or check for degenerate data.\n",
      "  warnings.warn('Initialization %d did not converge. '\n",
      "C:\\ProgramData\\Anaconda3\\lib\\site-packages\\sklearn\\mixture\\_base.py:265: ConvergenceWarning: Initialization 1 did not converge. Try different init parameters, or increase max_iter, tol or check for degenerate data.\n",
      "  warnings.warn('Initialization %d did not converge. '\n",
      "C:\\ProgramData\\Anaconda3\\lib\\site-packages\\sklearn\\mixture\\_base.py:265: ConvergenceWarning: Initialization 1 did not converge. Try different init parameters, or increase max_iter, tol or check for degenerate data.\n",
      "  warnings.warn('Initialization %d did not converge. '\n",
      "C:\\ProgramData\\Anaconda3\\lib\\site-packages\\sklearn\\mixture\\_base.py:265: ConvergenceWarning: Initialization 1 did not converge. Try different init parameters, or increase max_iter, tol or check for degenerate data.\n",
      "  warnings.warn('Initialization %d did not converge. '\n",
      "C:\\ProgramData\\Anaconda3\\lib\\site-packages\\sklearn\\mixture\\_base.py:265: ConvergenceWarning: Initialization 1 did not converge. Try different init parameters, or increase max_iter, tol or check for degenerate data.\n",
      "  warnings.warn('Initialization %d did not converge. '\n",
      "C:\\ProgramData\\Anaconda3\\lib\\site-packages\\sklearn\\mixture\\_base.py:265: ConvergenceWarning: Initialization 1 did not converge. Try different init parameters, or increase max_iter, tol or check for degenerate data.\n",
      "  warnings.warn('Initialization %d did not converge. '\n",
      "C:\\ProgramData\\Anaconda3\\lib\\site-packages\\sklearn\\mixture\\_base.py:265: ConvergenceWarning: Initialization 1 did not converge. Try different init parameters, or increase max_iter, tol or check for degenerate data.\n",
      "  warnings.warn('Initialization %d did not converge. '\n",
      "C:\\ProgramData\\Anaconda3\\lib\\site-packages\\sklearn\\mixture\\_base.py:265: ConvergenceWarning: Initialization 1 did not converge. Try different init parameters, or increase max_iter, tol or check for degenerate data.\n",
      "  warnings.warn('Initialization %d did not converge. '\n"
     ]
    }
   ],
   "source": [
    "log_likelihood = []\n",
    "\n",
    "\n",
    "for i in range(1,43):\n",
    "    GM = GaussianMixture(n_components=2,covariance_type = 'full',max_iter=i, init_params ='random')\n",
    "    GM.fit(simu)\n",
    "    log_likelihood.append(GM.lower_bound_)"
   ]
  },
  {
   "cell_type": "code",
   "execution_count": 553,
   "id": "0484544e",
   "metadata": {},
   "outputs": [
    {
     "data": {
      "text/plain": [
       "<matplotlib.collections.PathCollection at 0x2286451b4c0>"
      ]
     },
     "execution_count": 553,
     "metadata": {},
     "output_type": "execute_result"
    },
    {
     "data": {
      "image/png": "[encoded data removed]",
      "text/plain": [
       "<Figure size 432x288 with 1 Axes>"
      ]
     },
     "metadata": {
      "needs_background": "light"
     },
     "output_type": "display_data"
    }
   ],
   "source": [
    "plt.plot(range(1,43), log_likelihood)\n",
    "plt.scatter(range(1,43), log_likelihood)"
   ]
  },
  {
   "cell_type": "markdown",
   "id": "4bfa43a9",
   "metadata": {},
   "source": [
    "**b)Please Report the final estimations of parameters when K=2, Θ = {𝜇(, Σ(, 𝜋(|𝑘 = 1,2}.**"
   ]
  },
  {
   "cell_type": "code",
   "execution_count": 554,
   "id": "1abcc2c1",
   "metadata": {},
   "outputs": [
    {
     "data": {
      "text/plain": [
       "array([[ 0.02101534, -0.03142369,  1.        ],\n",
       "       [ 0.30567704,  0.56890804,  0.        ]])"
      ]
     },
     "execution_count": 554,
     "metadata": {},
     "output_type": "execute_result"
    }
   ],
   "source": [
    "GM.means_"
   ]
  },
  {
   "cell_type": "code",
   "execution_count": 567,
   "id": "f3768ebe",
   "metadata": {},
   "outputs": [
    {
     "data": {
      "text/plain": [
       "'full'"
      ]
     },
     "execution_count": 567,
     "metadata": {},
     "output_type": "execute_result"
    }
   ],
   "source": [
    "GM.covariance_type"
   ]
  },
  {
   "cell_type": "code",
   "execution_count": 555,
   "id": "6b27ba40",
   "metadata": {},
   "outputs": [
    {
     "data": {
      "text/plain": [
       "array([[[ 3.86567166e-01, -5.38823574e-02,  0.00000000e+00],\n",
       "        [-5.38823574e-02,  6.67452529e-02,  0.00000000e+00],\n",
       "        [ 0.00000000e+00,  0.00000000e+00,  1.00000000e-06]],\n",
       "\n",
       "       [[ 1.17639345e-01, -1.17061664e-01,  0.00000000e+00],\n",
       "        [-1.17061664e-01,  2.64282927e-01,  0.00000000e+00],\n",
       "        [ 0.00000000e+00,  0.00000000e+00,  1.00000000e-06]]])"
      ]
     },
     "execution_count": 555,
     "metadata": {},
     "output_type": "execute_result"
    }
   ],
   "source": [
    "GM.covariances_"
   ]
  },
  {
   "cell_type": "code",
   "execution_count": 560,
   "id": "12625011",
   "metadata": {},
   "outputs": [
    {
     "data": {
      "text/plain": [
       "array([  3.3325757 ,   2.89944845,  -6.51565255, -10.10932598,\n",
       "         3.26824707,   1.22355555,   0.55661689,  -2.24572329,\n",
       "        -0.48888977,   4.04016616,  -9.41095452,   3.98797817,\n",
       "         2.96336547,  -2.34030741, -13.16487773,  -1.55284732,\n",
       "        -5.85314793,  -1.38038588,   4.04245612,   3.9128047 ,\n",
       "         2.89900873,   3.99651221,   2.98462477,   3.66029967,\n",
       "        -5.44634329,   0.09059318,  -6.55893282,   2.31412928,\n",
       "         4.59983538,  -0.23942849,   4.49249295,  -4.6904636 ,\n",
       "         3.82419519,   0.96324013,   2.51204744,   2.87304999,\n",
       "         2.43766707,   0.07543564, -10.89721575,   2.49487636,\n",
       "         2.79501839,   2.40970141, -12.34964733,   4.20820796,\n",
       "        -5.35946327,   3.63169879,  -0.02322039,  -9.74266198,\n",
       "         1.79721578,   3.59252358,  -2.66967292,   3.22292078,\n",
       "         3.92265517,   3.94264337,  -0.07816423,   3.41983926,\n",
       "        -6.17143245,   2.90279071,   4.02523777,  -4.70563454,\n",
       "         3.3197464 ,   4.39212677,   1.80665072,  -5.9437578 ,\n",
       "         3.74799356,   3.69526292,  -2.1028382 ,   1.39972578,\n",
       "         4.65615896,   1.74703554,   0.51337813,   4.64253446,\n",
       "         1.20619547,  -2.63321198,   3.03529329,   4.5956637 ,\n",
       "         4.8357154 , -10.9091226 ,  -0.90018792,  -0.06618248,\n",
       "         0.02746838,  -5.20850686,   3.49067535,  -6.01265241,\n",
       "       -11.33248949,  -0.39501099, -16.94896583,   2.64969855,\n",
       "        -6.63823395, -15.19083043,   4.22743247,   3.97142693,\n",
       "        -9.46123932,  -1.49245093,  -6.88920512,   1.94025645,\n",
       "         2.63009789,   3.20243139,   3.77227696,   2.1092076 ])"
      ]
     },
     "execution_count": 560,
     "metadata": {},
     "output_type": "execute_result"
    }
   ],
   "source": [
    "GM.score_samples(simu)"
   ]
  },
  {
   "cell_type": "markdown",
   "id": "027fd722",
   "metadata": {},
   "source": [
    "**c)Cluster each data point to the most likely group. Produce a plot of the data points and label the data points by groups. Exemplary figures could be found on Page 29 of Lecture 14.**"
   ]
  },
  {
   "cell_type": "code",
   "execution_count": 557,
   "id": "dee8ff38",
   "metadata": {},
   "outputs": [],
   "source": [
    "pred = GM.predict(simu)"
   ]
  },
  {
   "cell_type": "code",
   "execution_count": 564,
   "id": "2fe7b0be",
   "metadata": {},
   "outputs": [
    {
     "name": "stdout",
     "output_type": "stream",
     "text": [
      "silhouette : 0.4574514445087054\n"
     ]
    }
   ],
   "source": [
    "print(\"silhouette :\",silhouette_score(simu,pred))"
   ]
  },
  {
   "cell_type": "code",
   "execution_count": 565,
   "id": "7cd17d69",
   "metadata": {},
   "outputs": [
    {
     "data": {
      "text/html": [
       "<div>\n",
       "<style scoped>\n",
       "    .dataframe tbody tr th:only-of-type {\n",
       "        vertical-align: middle;\n",
       "    }\n",
       "\n",
       "    .dataframe tbody tr th {\n",
       "        vertical-align: top;\n",
       "    }\n",
       "\n",
       "    .dataframe thead th {\n",
       "        text-align: right;\n",
       "    }\n",
       "</style>\n",
       "<table border=\"1\" class=\"dataframe\">\n",
       "  <thead>\n",
       "    <tr style=\"text-align: right;\">\n",
       "      <th></th>\n",
       "      <th>X1</th>\n",
       "      <th>X2</th>\n",
       "      <th>classes</th>\n",
       "    </tr>\n",
       "  </thead>\n",
       "  <tbody>\n",
       "    <tr>\n",
       "      <th>0</th>\n",
       "      <td>0.826524</td>\n",
       "      <td>-0.403322</td>\n",
       "      <td>0</td>\n",
       "    </tr>\n",
       "    <tr>\n",
       "      <th>1</th>\n",
       "      <td>1.010251</td>\n",
       "      <td>0.094141</td>\n",
       "      <td>0</td>\n",
       "    </tr>\n",
       "    <tr>\n",
       "      <th>2</th>\n",
       "      <td>-0.847152</td>\n",
       "      <td>0.378825</td>\n",
       "      <td>0</td>\n",
       "    </tr>\n",
       "    <tr>\n",
       "      <th>3</th>\n",
       "      <td>0.746718</td>\n",
       "      <td>1.200720</td>\n",
       "      <td>1</td>\n",
       "    </tr>\n",
       "    <tr>\n",
       "      <th>4</th>\n",
       "      <td>0.883394</td>\n",
       "      <td>0.247857</td>\n",
       "      <td>1</td>\n",
       "    </tr>\n",
       "  </tbody>\n",
       "</table>\n",
       "</div>"
      ],
      "text/plain": [
       "         X1        X2  classes\n",
       "0  0.826524 -0.403322        0\n",
       "1  1.010251  0.094141        0\n",
       "2 -0.847152  0.378825        0\n",
       "3  0.746718  1.200720        1\n",
       "4  0.883394  0.247857        1"
      ]
     },
     "execution_count": 565,
     "metadata": {},
     "output_type": "execute_result"
    }
   ],
   "source": [
    "simu['classes'] = pred\n",
    "simu.head()"
   ]
  },
  {
   "cell_type": "code",
   "execution_count": 559,
   "id": "42ef4345",
   "metadata": {},
   "outputs": [
    {
     "data": {
      "text/plain": [
       "<matplotlib.collections.PathCollection at 0x22865563f70>"
      ]
     },
     "execution_count": 559,
     "metadata": {},
     "output_type": "execute_result"
    },
    {
     "data": {
      "image/png": "[encoded data removed]",
      "text/plain": [
       "<Figure size 432x288 with 1 Axes>"
      ]
     },
     "metadata": {
      "needs_background": "light"
     },
     "output_type": "display_data"
    }
   ],
   "source": [
    "colormap = np.array(['blue', 'red'])\n",
    "plt.scatter(simu['X1'], simu['X2'], c= colormap[simu['classes']])"
   ]
  },
  {
   "cell_type": "code",
   "execution_count": null,
   "id": "91c0c63a",
   "metadata": {},
   "outputs": [],
   "source": []
  },
  {
   "cell_type": "code",
   "execution_count": null,
   "id": "8172047c",
   "metadata": {},
   "outputs": [],
   "source": []
  },
  {
   "cell_type": "code",
   "execution_count": null,
   "id": "f272100a",
   "metadata": {},
   "outputs": [],
   "source": []
  },
  {
   "cell_type": "code",
   "execution_count": null,
   "id": "e6fb92a0",
   "metadata": {},
   "outputs": [],
   "source": []
  }
 ],
 "metadata": {
  "kernelspec": {
   "display_name": "Python 3",
   "language": "python",
   "name": "python3"
  },
  "language_info": {
   "codemirror_mode": {
    "name": "ipython",
    "version": 3
   },
   "file_extension": ".py",
   "mimetype": "text/x-python",
   "name": "python",
   "nbconvert_exporter": "python",
   "pygments_lexer": "ipython3",
   "version": "3.8.8"
  }
 },
 "nbformat": 4,
 "nbformat_minor": 5
}
